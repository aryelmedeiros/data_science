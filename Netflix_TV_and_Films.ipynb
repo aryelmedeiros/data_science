{
  "nbformat": 4,
  "nbformat_minor": 0,
  "metadata": {
    "colab": {
      "provenance": [],
      "toc_visible": true,
      "authorship_tag": "ABX9TyPU1Py3H4Jnq3x00ynSzfJ6",
      "include_colab_link": true
    },
    "kernelspec": {
      "name": "python3",
      "display_name": "Python 3"
    },
    "language_info": {
      "name": "python"
    }
  },
  "cells": [
    {
      "cell_type": "markdown",
      "metadata": {
        "id": "view-in-github",
        "colab_type": "text"
      },
      "source": [
        "<a href=\"https://colab.research.google.com/github/aryelmedeiros/data_science/blob/main/Netflix_TV_and_Films.ipynb\" target=\"_parent\"><img src=\"https://colab.research.google.com/assets/colab-badge.svg\" alt=\"Open In Colab\"/></a>"
      ]
    },
    {
      "cell_type": "code",
      "execution_count": 1,
      "metadata": {
        "id": "8A_p7V7mrFWB"
      },
      "outputs": [],
      "source": [
        "import numpy as np\n",
        "import pandas as pd\n",
        "import scipy.stats as stats\n",
        "import seaborn as sns\n",
        "import matplotlib.pyplot as plt\n",
        "\n",
        "from sklearn.model_selection import train_test_split\n",
        "from sklearn.linear_model import LinearRegression\n",
        "from sklearn.ensemble import RandomForestRegressor\n",
        "from sklearn.preprocessing import LabelEncoder\n",
        "from sklearn.metrics import mean_squared_error, mean_absolute_error, r2_score"
      ]
    },
    {
      "cell_type": "markdown",
      "source": [
        "# Explorando o Dataset"
      ],
      "metadata": {
        "id": "JmQaBdVwoGPx"
      }
    },
    {
      "cell_type": "code",
      "source": [
        "df = pd.read_csv('netflix_list.csv')\n",
        "df.head()"
      ],
      "metadata": {
        "colab": {
          "base_uri": "https://localhost:8080/",
          "height": 693
        },
        "id": "9IrERHOPrqY2",
        "outputId": "017b7530-8570-4e21-859e-eea6a42ca646"
      },
      "execution_count": 43,
      "outputs": [
        {
          "output_type": "execute_result",
          "data": {
            "text/plain": [
              "     imdb_id                title popular_rank certificate  startYear  \\\n",
              "0  tt4052886              Lucifer            1          15     2016.0   \n",
              "1  tt0993840     Army of the Dead            2          18     2021.0   \n",
              "2  tt7255502  The Kominsky Method            3          18     2018.0   \n",
              "3  tt0108778              Friends            4         13+     1994.0   \n",
              "4  tt9251798             Ragnarok            5          18     2020.0   \n",
              "\n",
              "   endYear  episodes runtime      type  orign_country   language  \\\n",
              "0      NaN      93.0      42  tvSeries  United States    English   \n",
              "1      NaN       NaN     148     movie  United States    English   \n",
              "2   2021.0      22.0      30  tvSeries  United States    English   \n",
              "3   2004.0     235.0      22  tvSeries  United States    English   \n",
              "4      NaN      12.0      45  tvSeries         Norway  Norwegian   \n",
              "\n",
              "                                                plot  \\\n",
              "0  Lucifer Morningstar has decided he's had enoug...   \n",
              "1  Following a zombie outbreak in Las Vegas, a gr...   \n",
              "2  An aging actor, who long ago enjoyed a brush w...   \n",
              "3  Follows the personal and professional lives of...   \n",
              "4  A small Norwegian town experiencing warm winte...   \n",
              "\n",
              "                                             summary  rating  numVotes  \\\n",
              "0  Lucifer Morningstar, bored from his sulking li...     8.1  250884.0   \n",
              "1  With the abandoned, walled city of Las Vegas o...     5.8  110780.0   \n",
              "2  Michael Douglas plays an actor who made it big...     8.2   28795.0   \n",
              "3  Ross Geller, Rachel Green, Monica Geller, Joey...     8.9  861843.0   \n",
              "4  In the small fictional town of Edda coming of ...     7.5   26606.0   \n",
              "\n",
              "                 genres  isAdult  \\\n",
              "0   Crime,Drama,Fantasy        0   \n",
              "1   Action,Crime,Horror        0   \n",
              "2          Comedy,Drama        0   \n",
              "3        Comedy,Romance        0   \n",
              "4  Action,Drama,Fantasy        0   \n",
              "\n",
              "                                                cast  \\\n",
              "0  ['Tom Ellis', 'Lauren German', 'Lesley-Ann Bra...   \n",
              "1  ['Dave Bautista', 'Ella Purnell', 'Ana de la R...   \n",
              "2  ['Michael Douglas', 'Sarah Baker', 'Graham Rog...   \n",
              "3  ['Jennifer Aniston', 'Courteney Cox', 'Lisa Ku...   \n",
              "4  ['David Stakston', 'Jonas Strand Gravli', 'Her...   \n",
              "\n",
              "                                           image_url  \n",
              "0  https://m.media-amazon.com/images/M/MV5BNzY1Yj...  \n",
              "1  https://m.media-amazon.com/images/M/MV5BNGY0Nz...  \n",
              "2  https://m.media-amazon.com/images/M/MV5BMzA0YT...  \n",
              "3  https://m.media-amazon.com/images/M/MV5BNDVkYj...  \n",
              "4  https://m.media-amazon.com/images/M/MV5BODM3NT...  "
            ],
            "text/html": [
              "\n",
              "\n",
              "  <div id=\"df-e09ae1df-c54d-48ec-8d8c-1c201219b36c\">\n",
              "    <div class=\"colab-df-container\">\n",
              "      <div>\n",
              "<style scoped>\n",
              "    .dataframe tbody tr th:only-of-type {\n",
              "        vertical-align: middle;\n",
              "    }\n",
              "\n",
              "    .dataframe tbody tr th {\n",
              "        vertical-align: top;\n",
              "    }\n",
              "\n",
              "    .dataframe thead th {\n",
              "        text-align: right;\n",
              "    }\n",
              "</style>\n",
              "<table border=\"1\" class=\"dataframe\">\n",
              "  <thead>\n",
              "    <tr style=\"text-align: right;\">\n",
              "      <th></th>\n",
              "      <th>imdb_id</th>\n",
              "      <th>title</th>\n",
              "      <th>popular_rank</th>\n",
              "      <th>certificate</th>\n",
              "      <th>startYear</th>\n",
              "      <th>endYear</th>\n",
              "      <th>episodes</th>\n",
              "      <th>runtime</th>\n",
              "      <th>type</th>\n",
              "      <th>orign_country</th>\n",
              "      <th>language</th>\n",
              "      <th>plot</th>\n",
              "      <th>summary</th>\n",
              "      <th>rating</th>\n",
              "      <th>numVotes</th>\n",
              "      <th>genres</th>\n",
              "      <th>isAdult</th>\n",
              "      <th>cast</th>\n",
              "      <th>image_url</th>\n",
              "    </tr>\n",
              "  </thead>\n",
              "  <tbody>\n",
              "    <tr>\n",
              "      <th>0</th>\n",
              "      <td>tt4052886</td>\n",
              "      <td>Lucifer</td>\n",
              "      <td>1</td>\n",
              "      <td>15</td>\n",
              "      <td>2016.0</td>\n",
              "      <td>NaN</td>\n",
              "      <td>93.0</td>\n",
              "      <td>42</td>\n",
              "      <td>tvSeries</td>\n",
              "      <td>United States</td>\n",
              "      <td>English</td>\n",
              "      <td>Lucifer Morningstar has decided he's had enoug...</td>\n",
              "      <td>Lucifer Morningstar, bored from his sulking li...</td>\n",
              "      <td>8.1</td>\n",
              "      <td>250884.0</td>\n",
              "      <td>Crime,Drama,Fantasy</td>\n",
              "      <td>0</td>\n",
              "      <td>['Tom Ellis', 'Lauren German', 'Lesley-Ann Bra...</td>\n",
              "      <td>https://m.media-amazon.com/images/M/MV5BNzY1Yj...</td>\n",
              "    </tr>\n",
              "    <tr>\n",
              "      <th>1</th>\n",
              "      <td>tt0993840</td>\n",
              "      <td>Army of the Dead</td>\n",
              "      <td>2</td>\n",
              "      <td>18</td>\n",
              "      <td>2021.0</td>\n",
              "      <td>NaN</td>\n",
              "      <td>NaN</td>\n",
              "      <td>148</td>\n",
              "      <td>movie</td>\n",
              "      <td>United States</td>\n",
              "      <td>English</td>\n",
              "      <td>Following a zombie outbreak in Las Vegas, a gr...</td>\n",
              "      <td>With the abandoned, walled city of Las Vegas o...</td>\n",
              "      <td>5.8</td>\n",
              "      <td>110780.0</td>\n",
              "      <td>Action,Crime,Horror</td>\n",
              "      <td>0</td>\n",
              "      <td>['Dave Bautista', 'Ella Purnell', 'Ana de la R...</td>\n",
              "      <td>https://m.media-amazon.com/images/M/MV5BNGY0Nz...</td>\n",
              "    </tr>\n",
              "    <tr>\n",
              "      <th>2</th>\n",
              "      <td>tt7255502</td>\n",
              "      <td>The Kominsky Method</td>\n",
              "      <td>3</td>\n",
              "      <td>18</td>\n",
              "      <td>2018.0</td>\n",
              "      <td>2021.0</td>\n",
              "      <td>22.0</td>\n",
              "      <td>30</td>\n",
              "      <td>tvSeries</td>\n",
              "      <td>United States</td>\n",
              "      <td>English</td>\n",
              "      <td>An aging actor, who long ago enjoyed a brush w...</td>\n",
              "      <td>Michael Douglas plays an actor who made it big...</td>\n",
              "      <td>8.2</td>\n",
              "      <td>28795.0</td>\n",
              "      <td>Comedy,Drama</td>\n",
              "      <td>0</td>\n",
              "      <td>['Michael Douglas', 'Sarah Baker', 'Graham Rog...</td>\n",
              "      <td>https://m.media-amazon.com/images/M/MV5BMzA0YT...</td>\n",
              "    </tr>\n",
              "    <tr>\n",
              "      <th>3</th>\n",
              "      <td>tt0108778</td>\n",
              "      <td>Friends</td>\n",
              "      <td>4</td>\n",
              "      <td>13+</td>\n",
              "      <td>1994.0</td>\n",
              "      <td>2004.0</td>\n",
              "      <td>235.0</td>\n",
              "      <td>22</td>\n",
              "      <td>tvSeries</td>\n",
              "      <td>United States</td>\n",
              "      <td>English</td>\n",
              "      <td>Follows the personal and professional lives of...</td>\n",
              "      <td>Ross Geller, Rachel Green, Monica Geller, Joey...</td>\n",
              "      <td>8.9</td>\n",
              "      <td>861843.0</td>\n",
              "      <td>Comedy,Romance</td>\n",
              "      <td>0</td>\n",
              "      <td>['Jennifer Aniston', 'Courteney Cox', 'Lisa Ku...</td>\n",
              "      <td>https://m.media-amazon.com/images/M/MV5BNDVkYj...</td>\n",
              "    </tr>\n",
              "    <tr>\n",
              "      <th>4</th>\n",
              "      <td>tt9251798</td>\n",
              "      <td>Ragnarok</td>\n",
              "      <td>5</td>\n",
              "      <td>18</td>\n",
              "      <td>2020.0</td>\n",
              "      <td>NaN</td>\n",
              "      <td>12.0</td>\n",
              "      <td>45</td>\n",
              "      <td>tvSeries</td>\n",
              "      <td>Norway</td>\n",
              "      <td>Norwegian</td>\n",
              "      <td>A small Norwegian town experiencing warm winte...</td>\n",
              "      <td>In the small fictional town of Edda coming of ...</td>\n",
              "      <td>7.5</td>\n",
              "      <td>26606.0</td>\n",
              "      <td>Action,Drama,Fantasy</td>\n",
              "      <td>0</td>\n",
              "      <td>['David Stakston', 'Jonas Strand Gravli', 'Her...</td>\n",
              "      <td>https://m.media-amazon.com/images/M/MV5BODM3NT...</td>\n",
              "    </tr>\n",
              "  </tbody>\n",
              "</table>\n",
              "</div>\n",
              "      <button class=\"colab-df-convert\" onclick=\"convertToInteractive('df-e09ae1df-c54d-48ec-8d8c-1c201219b36c')\"\n",
              "              title=\"Convert this dataframe to an interactive table.\"\n",
              "              style=\"display:none;\">\n",
              "\n",
              "  <svg xmlns=\"http://www.w3.org/2000/svg\" height=\"24px\"viewBox=\"0 0 24 24\"\n",
              "       width=\"24px\">\n",
              "    <path d=\"M0 0h24v24H0V0z\" fill=\"none\"/>\n",
              "    <path d=\"M18.56 5.44l.94 2.06.94-2.06 2.06-.94-2.06-.94-.94-2.06-.94 2.06-2.06.94zm-11 1L8.5 8.5l.94-2.06 2.06-.94-2.06-.94L8.5 2.5l-.94 2.06-2.06.94zm10 10l.94 2.06.94-2.06 2.06-.94-2.06-.94-.94-2.06-.94 2.06-2.06.94z\"/><path d=\"M17.41 7.96l-1.37-1.37c-.4-.4-.92-.59-1.43-.59-.52 0-1.04.2-1.43.59L10.3 9.45l-7.72 7.72c-.78.78-.78 2.05 0 2.83L4 21.41c.39.39.9.59 1.41.59.51 0 1.02-.2 1.41-.59l7.78-7.78 2.81-2.81c.8-.78.8-2.07 0-2.86zM5.41 20L4 18.59l7.72-7.72 1.47 1.35L5.41 20z\"/>\n",
              "  </svg>\n",
              "      </button>\n",
              "\n",
              "\n",
              "\n",
              "    <div id=\"df-2da17b76-7eff-4895-b319-0e4779b9d8d5\">\n",
              "      <button class=\"colab-df-quickchart\" onclick=\"quickchart('df-2da17b76-7eff-4895-b319-0e4779b9d8d5')\"\n",
              "              title=\"Suggest charts.\"\n",
              "              style=\"display:none;\">\n",
              "\n",
              "<svg xmlns=\"http://www.w3.org/2000/svg\" height=\"24px\"viewBox=\"0 0 24 24\"\n",
              "     width=\"24px\">\n",
              "    <g>\n",
              "        <path d=\"M19 3H5c-1.1 0-2 .9-2 2v14c0 1.1.9 2 2 2h14c1.1 0 2-.9 2-2V5c0-1.1-.9-2-2-2zM9 17H7v-7h2v7zm4 0h-2V7h2v10zm4 0h-2v-4h2v4z\"/>\n",
              "    </g>\n",
              "</svg>\n",
              "      </button>\n",
              "    </div>\n",
              "\n",
              "<style>\n",
              "  .colab-df-quickchart {\n",
              "    background-color: #E8F0FE;\n",
              "    border: none;\n",
              "    border-radius: 50%;\n",
              "    cursor: pointer;\n",
              "    display: none;\n",
              "    fill: #1967D2;\n",
              "    height: 32px;\n",
              "    padding: 0 0 0 0;\n",
              "    width: 32px;\n",
              "  }\n",
              "\n",
              "  .colab-df-quickchart:hover {\n",
              "    background-color: #E2EBFA;\n",
              "    box-shadow: 0px 1px 2px rgba(60, 64, 67, 0.3), 0px 1px 3px 1px rgba(60, 64, 67, 0.15);\n",
              "    fill: #174EA6;\n",
              "  }\n",
              "\n",
              "  [theme=dark] .colab-df-quickchart {\n",
              "    background-color: #3B4455;\n",
              "    fill: #D2E3FC;\n",
              "  }\n",
              "\n",
              "  [theme=dark] .colab-df-quickchart:hover {\n",
              "    background-color: #434B5C;\n",
              "    box-shadow: 0px 1px 3px 1px rgba(0, 0, 0, 0.15);\n",
              "    filter: drop-shadow(0px 1px 2px rgba(0, 0, 0, 0.3));\n",
              "    fill: #FFFFFF;\n",
              "  }\n",
              "</style>\n",
              "\n",
              "    <script>\n",
              "      async function quickchart(key) {\n",
              "        const containerElement = document.querySelector('#' + key);\n",
              "        const charts = await google.colab.kernel.invokeFunction(\n",
              "            'suggestCharts', [key], {});\n",
              "      }\n",
              "    </script>\n",
              "\n",
              "      <script>\n",
              "\n",
              "function displayQuickchartButton(domScope) {\n",
              "  let quickchartButtonEl =\n",
              "    domScope.querySelector('#df-2da17b76-7eff-4895-b319-0e4779b9d8d5 button.colab-df-quickchart');\n",
              "  quickchartButtonEl.style.display =\n",
              "    google.colab.kernel.accessAllowed ? 'block' : 'none';\n",
              "}\n",
              "\n",
              "        displayQuickchartButton(document);\n",
              "      </script>\n",
              "      <style>\n",
              "    .colab-df-container {\n",
              "      display:flex;\n",
              "      flex-wrap:wrap;\n",
              "      gap: 12px;\n",
              "    }\n",
              "\n",
              "    .colab-df-convert {\n",
              "      background-color: #E8F0FE;\n",
              "      border: none;\n",
              "      border-radius: 50%;\n",
              "      cursor: pointer;\n",
              "      display: none;\n",
              "      fill: #1967D2;\n",
              "      height: 32px;\n",
              "      padding: 0 0 0 0;\n",
              "      width: 32px;\n",
              "    }\n",
              "\n",
              "    .colab-df-convert:hover {\n",
              "      background-color: #E2EBFA;\n",
              "      box-shadow: 0px 1px 2px rgba(60, 64, 67, 0.3), 0px 1px 3px 1px rgba(60, 64, 67, 0.15);\n",
              "      fill: #174EA6;\n",
              "    }\n",
              "\n",
              "    [theme=dark] .colab-df-convert {\n",
              "      background-color: #3B4455;\n",
              "      fill: #D2E3FC;\n",
              "    }\n",
              "\n",
              "    [theme=dark] .colab-df-convert:hover {\n",
              "      background-color: #434B5C;\n",
              "      box-shadow: 0px 1px 3px 1px rgba(0, 0, 0, 0.15);\n",
              "      filter: drop-shadow(0px 1px 2px rgba(0, 0, 0, 0.3));\n",
              "      fill: #FFFFFF;\n",
              "    }\n",
              "  </style>\n",
              "\n",
              "      <script>\n",
              "        const buttonEl =\n",
              "          document.querySelector('#df-e09ae1df-c54d-48ec-8d8c-1c201219b36c button.colab-df-convert');\n",
              "        buttonEl.style.display =\n",
              "          google.colab.kernel.accessAllowed ? 'block' : 'none';\n",
              "\n",
              "        async function convertToInteractive(key) {\n",
              "          const element = document.querySelector('#df-e09ae1df-c54d-48ec-8d8c-1c201219b36c');\n",
              "          const dataTable =\n",
              "            await google.colab.kernel.invokeFunction('convertToInteractive',\n",
              "                                                     [key], {});\n",
              "          if (!dataTable) return;\n",
              "\n",
              "          const docLinkHtml = 'Like what you see? Visit the ' +\n",
              "            '<a target=\"_blank\" href=https://colab.research.google.com/notebooks/data_table.ipynb>data table notebook</a>'\n",
              "            + ' to learn more about interactive tables.';\n",
              "          element.innerHTML = '';\n",
              "          dataTable['output_type'] = 'display_data';\n",
              "          await google.colab.output.renderOutput(dataTable, element);\n",
              "          const docLink = document.createElement('div');\n",
              "          docLink.innerHTML = docLinkHtml;\n",
              "          element.appendChild(docLink);\n",
              "        }\n",
              "      </script>\n",
              "    </div>\n",
              "  </div>\n"
            ]
          },
          "metadata": {},
          "execution_count": 43
        }
      ]
    },
    {
      "cell_type": "code",
      "source": [
        "df.shape"
      ],
      "metadata": {
        "colab": {
          "base_uri": "https://localhost:8080/"
        },
        "id": "O0tWek_Zr1rJ",
        "outputId": "8d4caf27-5dcf-4c89-e18b-efa4b4d63293"
      },
      "execution_count": 7,
      "outputs": [
        {
          "output_type": "execute_result",
          "data": {
            "text/plain": [
              "(7008, 19)"
            ]
          },
          "metadata": {},
          "execution_count": 7
        }
      ]
    },
    {
      "cell_type": "code",
      "source": [
        "df.info()"
      ],
      "metadata": {
        "colab": {
          "base_uri": "https://localhost:8080/"
        },
        "id": "O8d_zIEor58D",
        "outputId": "b4103dc2-4a1c-4b2a-ffa7-6248f5893158"
      },
      "execution_count": 44,
      "outputs": [
        {
          "output_type": "stream",
          "name": "stdout",
          "text": [
            "<class 'pandas.core.frame.DataFrame'>\n",
            "RangeIndex: 7008 entries, 0 to 7007\n",
            "Data columns (total 19 columns):\n",
            " #   Column         Non-Null Count  Dtype  \n",
            "---  ------         --------------  -----  \n",
            " 0   imdb_id        7008 non-null   object \n",
            " 1   title          7008 non-null   object \n",
            " 2   popular_rank   7008 non-null   object \n",
            " 3   certificate    2409 non-null   object \n",
            " 4   startYear      6493 non-null   float64\n",
            " 5   endYear        1126 non-null   float64\n",
            " 6   episodes       2304 non-null   float64\n",
            " 7   runtime        7006 non-null   object \n",
            " 8   type           7006 non-null   object \n",
            " 9   orign_country  7008 non-null   object \n",
            " 10  language       7008 non-null   object \n",
            " 11  plot           6609 non-null   object \n",
            " 12  summary        7008 non-null   object \n",
            " 13  rating         6000 non-null   float64\n",
            " 14  numVotes       6000 non-null   float64\n",
            " 15  genres         7006 non-null   object \n",
            " 16  isAdult        7008 non-null   int64  \n",
            " 17  cast           7008 non-null   object \n",
            " 18  image_url      7008 non-null   object \n",
            "dtypes: float64(5), int64(1), object(13)\n",
            "memory usage: 1.0+ MB\n"
          ]
        }
      ]
    },
    {
      "cell_type": "code",
      "source": [
        "duplicates = df.duplicated()\n",
        "\n",
        "df[duplicates]"
      ],
      "metadata": {
        "colab": {
          "base_uri": "https://localhost:8080/",
          "height": 113
        },
        "id": "WstMIIw0r9qH",
        "outputId": "0af2fe26-a18d-4917-b61c-6b9eec2dfa43"
      },
      "execution_count": 9,
      "outputs": [
        {
          "output_type": "execute_result",
          "data": {
            "text/plain": [
              "Empty DataFrame\n",
              "Columns: [imdb_id, title, popular_rank, certificate, startYear, endYear, episodes, runtime, type, orign_country, language, plot, summary, rating, numVotes, genres, isAdult, cast, image_url]\n",
              "Index: []"
            ],
            "text/html": [
              "\n",
              "\n",
              "  <div id=\"df-ac028327-87d1-4bae-998f-b02fc248e686\">\n",
              "    <div class=\"colab-df-container\">\n",
              "      <div>\n",
              "<style scoped>\n",
              "    .dataframe tbody tr th:only-of-type {\n",
              "        vertical-align: middle;\n",
              "    }\n",
              "\n",
              "    .dataframe tbody tr th {\n",
              "        vertical-align: top;\n",
              "    }\n",
              "\n",
              "    .dataframe thead th {\n",
              "        text-align: right;\n",
              "    }\n",
              "</style>\n",
              "<table border=\"1\" class=\"dataframe\">\n",
              "  <thead>\n",
              "    <tr style=\"text-align: right;\">\n",
              "      <th></th>\n",
              "      <th>imdb_id</th>\n",
              "      <th>title</th>\n",
              "      <th>popular_rank</th>\n",
              "      <th>certificate</th>\n",
              "      <th>startYear</th>\n",
              "      <th>endYear</th>\n",
              "      <th>episodes</th>\n",
              "      <th>runtime</th>\n",
              "      <th>type</th>\n",
              "      <th>orign_country</th>\n",
              "      <th>language</th>\n",
              "      <th>plot</th>\n",
              "      <th>summary</th>\n",
              "      <th>rating</th>\n",
              "      <th>numVotes</th>\n",
              "      <th>genres</th>\n",
              "      <th>isAdult</th>\n",
              "      <th>cast</th>\n",
              "      <th>image_url</th>\n",
              "    </tr>\n",
              "  </thead>\n",
              "  <tbody>\n",
              "  </tbody>\n",
              "</table>\n",
              "</div>\n",
              "      <button class=\"colab-df-convert\" onclick=\"convertToInteractive('df-ac028327-87d1-4bae-998f-b02fc248e686')\"\n",
              "              title=\"Convert this dataframe to an interactive table.\"\n",
              "              style=\"display:none;\">\n",
              "\n",
              "  <svg xmlns=\"http://www.w3.org/2000/svg\" height=\"24px\"viewBox=\"0 0 24 24\"\n",
              "       width=\"24px\">\n",
              "    <path d=\"M0 0h24v24H0V0z\" fill=\"none\"/>\n",
              "    <path d=\"M18.56 5.44l.94 2.06.94-2.06 2.06-.94-2.06-.94-.94-2.06-.94 2.06-2.06.94zm-11 1L8.5 8.5l.94-2.06 2.06-.94-2.06-.94L8.5 2.5l-.94 2.06-2.06.94zm10 10l.94 2.06.94-2.06 2.06-.94-2.06-.94-.94-2.06-.94 2.06-2.06.94z\"/><path d=\"M17.41 7.96l-1.37-1.37c-.4-.4-.92-.59-1.43-.59-.52 0-1.04.2-1.43.59L10.3 9.45l-7.72 7.72c-.78.78-.78 2.05 0 2.83L4 21.41c.39.39.9.59 1.41.59.51 0 1.02-.2 1.41-.59l7.78-7.78 2.81-2.81c.8-.78.8-2.07 0-2.86zM5.41 20L4 18.59l7.72-7.72 1.47 1.35L5.41 20z\"/>\n",
              "  </svg>\n",
              "      </button>\n",
              "\n",
              "\n",
              "\n",
              "    <div id=\"df-9153cf29-2a80-4261-9bd9-b396aba97bb6\">\n",
              "      <button class=\"colab-df-quickchart\" onclick=\"quickchart('df-9153cf29-2a80-4261-9bd9-b396aba97bb6')\"\n",
              "              title=\"Suggest charts.\"\n",
              "              style=\"display:none;\">\n",
              "\n",
              "<svg xmlns=\"http://www.w3.org/2000/svg\" height=\"24px\"viewBox=\"0 0 24 24\"\n",
              "     width=\"24px\">\n",
              "    <g>\n",
              "        <path d=\"M19 3H5c-1.1 0-2 .9-2 2v14c0 1.1.9 2 2 2h14c1.1 0 2-.9 2-2V5c0-1.1-.9-2-2-2zM9 17H7v-7h2v7zm4 0h-2V7h2v10zm4 0h-2v-4h2v4z\"/>\n",
              "    </g>\n",
              "</svg>\n",
              "      </button>\n",
              "    </div>\n",
              "\n",
              "<style>\n",
              "  .colab-df-quickchart {\n",
              "    background-color: #E8F0FE;\n",
              "    border: none;\n",
              "    border-radius: 50%;\n",
              "    cursor: pointer;\n",
              "    display: none;\n",
              "    fill: #1967D2;\n",
              "    height: 32px;\n",
              "    padding: 0 0 0 0;\n",
              "    width: 32px;\n",
              "  }\n",
              "\n",
              "  .colab-df-quickchart:hover {\n",
              "    background-color: #E2EBFA;\n",
              "    box-shadow: 0px 1px 2px rgba(60, 64, 67, 0.3), 0px 1px 3px 1px rgba(60, 64, 67, 0.15);\n",
              "    fill: #174EA6;\n",
              "  }\n",
              "\n",
              "  [theme=dark] .colab-df-quickchart {\n",
              "    background-color: #3B4455;\n",
              "    fill: #D2E3FC;\n",
              "  }\n",
              "\n",
              "  [theme=dark] .colab-df-quickchart:hover {\n",
              "    background-color: #434B5C;\n",
              "    box-shadow: 0px 1px 3px 1px rgba(0, 0, 0, 0.15);\n",
              "    filter: drop-shadow(0px 1px 2px rgba(0, 0, 0, 0.3));\n",
              "    fill: #FFFFFF;\n",
              "  }\n",
              "</style>\n",
              "\n",
              "    <script>\n",
              "      async function quickchart(key) {\n",
              "        const containerElement = document.querySelector('#' + key);\n",
              "        const charts = await google.colab.kernel.invokeFunction(\n",
              "            'suggestCharts', [key], {});\n",
              "      }\n",
              "    </script>\n",
              "\n",
              "      <script>\n",
              "\n",
              "function displayQuickchartButton(domScope) {\n",
              "  let quickchartButtonEl =\n",
              "    domScope.querySelector('#df-9153cf29-2a80-4261-9bd9-b396aba97bb6 button.colab-df-quickchart');\n",
              "  quickchartButtonEl.style.display =\n",
              "    google.colab.kernel.accessAllowed ? 'block' : 'none';\n",
              "}\n",
              "\n",
              "        displayQuickchartButton(document);\n",
              "      </script>\n",
              "      <style>\n",
              "    .colab-df-container {\n",
              "      display:flex;\n",
              "      flex-wrap:wrap;\n",
              "      gap: 12px;\n",
              "    }\n",
              "\n",
              "    .colab-df-convert {\n",
              "      background-color: #E8F0FE;\n",
              "      border: none;\n",
              "      border-radius: 50%;\n",
              "      cursor: pointer;\n",
              "      display: none;\n",
              "      fill: #1967D2;\n",
              "      height: 32px;\n",
              "      padding: 0 0 0 0;\n",
              "      width: 32px;\n",
              "    }\n",
              "\n",
              "    .colab-df-convert:hover {\n",
              "      background-color: #E2EBFA;\n",
              "      box-shadow: 0px 1px 2px rgba(60, 64, 67, 0.3), 0px 1px 3px 1px rgba(60, 64, 67, 0.15);\n",
              "      fill: #174EA6;\n",
              "    }\n",
              "\n",
              "    [theme=dark] .colab-df-convert {\n",
              "      background-color: #3B4455;\n",
              "      fill: #D2E3FC;\n",
              "    }\n",
              "\n",
              "    [theme=dark] .colab-df-convert:hover {\n",
              "      background-color: #434B5C;\n",
              "      box-shadow: 0px 1px 3px 1px rgba(0, 0, 0, 0.15);\n",
              "      filter: drop-shadow(0px 1px 2px rgba(0, 0, 0, 0.3));\n",
              "      fill: #FFFFFF;\n",
              "    }\n",
              "  </style>\n",
              "\n",
              "      <script>\n",
              "        const buttonEl =\n",
              "          document.querySelector('#df-ac028327-87d1-4bae-998f-b02fc248e686 button.colab-df-convert');\n",
              "        buttonEl.style.display =\n",
              "          google.colab.kernel.accessAllowed ? 'block' : 'none';\n",
              "\n",
              "        async function convertToInteractive(key) {\n",
              "          const element = document.querySelector('#df-ac028327-87d1-4bae-998f-b02fc248e686');\n",
              "          const dataTable =\n",
              "            await google.colab.kernel.invokeFunction('convertToInteractive',\n",
              "                                                     [key], {});\n",
              "          if (!dataTable) return;\n",
              "\n",
              "          const docLinkHtml = 'Like what you see? Visit the ' +\n",
              "            '<a target=\"_blank\" href=https://colab.research.google.com/notebooks/data_table.ipynb>data table notebook</a>'\n",
              "            + ' to learn more about interactive tables.';\n",
              "          element.innerHTML = '';\n",
              "          dataTable['output_type'] = 'display_data';\n",
              "          await google.colab.output.renderOutput(dataTable, element);\n",
              "          const docLink = document.createElement('div');\n",
              "          docLink.innerHTML = docLinkHtml;\n",
              "          element.appendChild(docLink);\n",
              "        }\n",
              "      </script>\n",
              "    </div>\n",
              "  </div>\n"
            ]
          },
          "metadata": {},
          "execution_count": 9
        }
      ]
    },
    {
      "cell_type": "code",
      "source": [
        "df.isnull().sum()"
      ],
      "metadata": {
        "colab": {
          "base_uri": "https://localhost:8080/"
        },
        "id": "SHwoFOd6sEFu",
        "outputId": "00f76559-8304-4ec2-b9f4-56b2ab2dfe70"
      },
      "execution_count": 10,
      "outputs": [
        {
          "output_type": "execute_result",
          "data": {
            "text/plain": [
              "imdb_id             0\n",
              "title               0\n",
              "popular_rank        0\n",
              "certificate      4599\n",
              "startYear         515\n",
              "endYear          5882\n",
              "episodes         4704\n",
              "runtime             2\n",
              "type                2\n",
              "orign_country       0\n",
              "language            0\n",
              "plot              399\n",
              "summary             0\n",
              "rating           1008\n",
              "numVotes         1008\n",
              "genres              2\n",
              "isAdult             0\n",
              "cast                0\n",
              "image_url           0\n",
              "dtype: int64"
            ]
          },
          "metadata": {},
          "execution_count": 10
        }
      ]
    },
    {
      "cell_type": "markdown",
      "source": [
        "###Limpeza dos dados"
      ],
      "metadata": {
        "id": "nGYdIEp42LV_"
      }
    },
    {
      "cell_type": "code",
      "source": [
        "data = pd.read_csv('netflix_list.csv')\n",
        "data.loc[(data['type'].isin(['tvSeries', 'tvEpisode', 'tvSpecial', 'tvMiniSeries'])), 'endYear'] = data['endYear'].fillna('Still Showing')\n",
        "data.loc[(data['type'].isin(['movie', 'short', 'tvMovie', 'video', 'videoGame', 'tvShort'])), 'endYear'] = data['endYear'].fillna(data['startYear'])\n",
        "data.loc[(data['type'].isin(['movie', 'short', 'tvMovie', 'video', 'videoGame', 'tvShort'])), 'episodes'] = data['episodes'].fillna(1)\n",
        "data.loc[(data['type'].isin(['movie', 'short', 'tvMovie', 'video', 'videoGame', 'tvShort'])), 'type'] = 'movie'\n",
        "data.loc[(data['type'].isin(['tvSeries', 'tvEpisode', 'tvSpecial', 'tvMiniSeries'])), 'type'] = 'serie'\n",
        "data.loc[(data['genres'].isin(['\\\\N', 'nan'])), 'genres'] = 'Unknow'\n",
        "data = data.drop('certificate', axis=1)\n",
        "data = data.drop('image_url', axis=1)\n",
        "data = data.drop('isAdult', axis=1)\n"
      ],
      "metadata": {
        "id": "i_yBU4DAzUj4"
      },
      "execution_count": 50,
      "outputs": []
    },
    {
      "cell_type": "markdown",
      "source": [
        "## Matriz de Correlação das Variaveis Númericas"
      ],
      "metadata": {
        "id": "NqfdXzJx1y-B"
      }
    },
    {
      "cell_type": "code",
      "source": [
        "sns.heatmap(data.corr(), annot=True)"
      ],
      "metadata": {
        "colab": {
          "base_uri": "https://localhost:8080/",
          "height": 506
        },
        "id": "DR5Vn9NLznBe",
        "outputId": "7f4a51d3-1999-4bb4-e583-69a7d91bf8ca"
      },
      "execution_count": 51,
      "outputs": [
        {
          "output_type": "stream",
          "name": "stderr",
          "text": [
            "<ipython-input-51-b699050ce883>:1: FutureWarning: The default value of numeric_only in DataFrame.corr is deprecated. In a future version, it will default to False. Select only valid columns or specify the value of numeric_only to silence this warning.\n",
            "  sns.heatmap(data.corr(), annot=True)\n"
          ]
        },
        {
          "output_type": "execute_result",
          "data": {
            "text/plain": [
              "<Axes: >"
            ]
          },
          "metadata": {},
          "execution_count": 51
        },
        {
          "output_type": "display_data",
          "data": {
            "text/plain": [
              "<Figure size 640x480 with 2 Axes>"
            ],
            "image/png": "[encoded data removed]"
          },
          "metadata": {}
        }
      ]
    },
    {
      "cell_type": "markdown",
      "source": [
        "## Países que mais produzem conteúdos\n"
      ],
      "metadata": {
        "id": "r1OihFTe1al0"
      }
    },
    {
      "cell_type": "code",
      "source": [
        "cleaning = data[data['orign_country']!= '-']\n",
        "popular_countries = cleaning['orign_country'].value_counts().head(10)\n",
        "popular_countries.plot(kind='bar')"
      ],
      "metadata": {
        "colab": {
          "base_uri": "https://localhost:8080/",
          "height": 544
        },
        "id": "yoWIHzMn1cyk",
        "outputId": "338fcc92-577f-4a96-8967-3a9005661a73"
      },
      "execution_count": 54,
      "outputs": [
        {
          "output_type": "execute_result",
          "data": {
            "text/plain": [
              "<Axes: >"
            ]
          },
          "metadata": {},
          "execution_count": 54
        },
        {
          "output_type": "display_data",
          "data": {
            "text/plain": [
              "<Figure size 640x480 with 1 Axes>"
            ],
            "image/png": "[encoded data removed]"
          },
          "metadata": {}
        }
      ]
    },
    {
      "cell_type": "markdown",
      "source": [
        "## Gêneros mais bem avaliados\n"
      ],
      "metadata": {
        "id": "CPjtsFfi3Sd1"
      }
    },
    {
      "cell_type": "code",
      "source": [
        "data[['genres']] = data[['genres']].astype(str)\n",
        "for i, row in data.iterrows():\n",
        "    ifor_val = data.at[i, \"genres\"].split(\",\")[0]\n",
        "    data.at[i,'genres'] = ifor_val\n",
        "\n",
        "data.genres.unique()"
      ],
      "metadata": {
        "colab": {
          "base_uri": "https://localhost:8080/"
        },
        "id": "UAVriK631l0B",
        "outputId": "205869e1-a344-45a7-c976-9d2127c3f41b"
      },
      "execution_count": 55,
      "outputs": [
        {
          "output_type": "execute_result",
          "data": {
            "text/plain": [
              "array(['Crime', 'Action', 'Comedy', 'Drama', 'Adventure', 'Animation',\n",
              "       'Biography', 'Horror', 'Mystery', 'Musical', 'Family', 'Thriller',\n",
              "       'Game-Show', 'Reality-TV', 'Documentary', 'Sci-Fi', 'Fantasy',\n",
              "       'History', 'Romance', 'Sport', 'Talk-Show', 'Music', 'Film-Noir',\n",
              "       'Unknow', 'Western', 'War', 'News', 'Short', 'nan'], dtype=object)"
            ]
          },
          "metadata": {},
          "execution_count": 55
        }
      ]
    },
    {
      "cell_type": "code",
      "source": [
        "popular_genres = data['genres']\n",
        "sns.barplot(data=data, x='rating', y=popular_genres)"
      ],
      "metadata": {
        "colab": {
          "base_uri": "https://localhost:8080/",
          "height": 636
        },
        "id": "TYgLHC1a1oLH",
        "outputId": "57df0174-6eb5-490c-b9ff-0fcb903bc120"
      },
      "execution_count": 56,
      "outputs": [
        {
          "output_type": "stream",
          "name": "stderr",
          "text": [
            "/usr/local/lib/python3.10/dist-packages/seaborn/algorithms.py:98: RuntimeWarning: Mean of empty slice\n",
            "  boot_dist.append(f(*sample, **func_kwargs))\n",
            "/usr/local/lib/python3.10/dist-packages/seaborn/algorithms.py:98: RuntimeWarning: Mean of empty slice\n",
            "  boot_dist.append(f(*sample, **func_kwargs))\n",
            "/usr/local/lib/python3.10/dist-packages/seaborn/algorithms.py:98: RuntimeWarning: Mean of empty slice\n",
            "  boot_dist.append(f(*sample, **func_kwargs))\n",
            "/usr/local/lib/python3.10/dist-packages/seaborn/algorithms.py:98: RuntimeWarning: Mean of empty slice\n",
            "  boot_dist.append(f(*sample, **func_kwargs))\n",
            "/usr/local/lib/python3.10/dist-packages/numpy/lib/nanfunctions.py:1560: RuntimeWarning: All-NaN slice encountered\n",
            "  r, k = function_base._ureduce(a,\n"
          ]
        },
        {
          "output_type": "execute_result",
          "data": {
            "text/plain": [
              "<Axes: xlabel='rating', ylabel='genres'>"
            ]
          },
          "metadata": {},
          "execution_count": 56
        },
        {
          "output_type": "display_data",
          "data": {
            "text/plain": [
              "<Figure size 640x480 with 1 Axes>"
            ],
            "image/png": "[encoded data removed]"
          },
          "metadata": {}
        }
      ]
    },
    {
      "cell_type": "markdown",
      "source": [
        "## Quantidade de conteúdos em Iglês (Filmes e Séries de TV)"
      ],
      "metadata": {
        "id": "LqXINE_T3so9"
      }
    },
    {
      "cell_type": "code",
      "source": [
        "data['isInEnglish'] = np.where(data['language'] == 'English', 'yes', 'no')\n",
        "sns.countplot(data=data, x='isInEnglish')"
      ],
      "metadata": {
        "colab": {
          "base_uri": "https://localhost:8080/",
          "height": 470
        },
        "id": "ZKggFeGi0_LJ",
        "outputId": "af8d8a7f-3555-48c8-8123-209e35ba0e65"
      },
      "execution_count": 53,
      "outputs": [
        {
          "output_type": "execute_result",
          "data": {
            "text/plain": [
              "<Axes: xlabel='isInEnglish', ylabel='count'>"
            ]
          },
          "metadata": {},
          "execution_count": 53
        },
        {
          "output_type": "display_data",
          "data": {
            "text/plain": [
              "<Figure size 640x480 with 1 Axes>"
            ],
            "image/png": "[encoded data removed]"
          },
          "metadata": {}
        }
      ]
    },
    {
      "cell_type": "markdown",
      "source": [
        "### Analizando pela variável Notas"
      ],
      "metadata": {
        "id": "fOtegLTD3IYk"
      }
    },
    {
      "cell_type": "code",
      "source": [
        "sns.boxplot(data=data, y=\"rating\", x='isInEnglish')"
      ],
      "metadata": {
        "colab": {
          "base_uri": "https://localhost:8080/",
          "height": 468
        },
        "id": "hJ3rM7j12YMY",
        "outputId": "e79109b1-8102-4e8f-c71b-151943a1bb0b"
      },
      "execution_count": 57,
      "outputs": [
        {
          "output_type": "execute_result",
          "data": {
            "text/plain": [
              "<Axes: xlabel='isInEnglish', ylabel='rating'>"
            ]
          },
          "metadata": {},
          "execution_count": 57
        },
        {
          "output_type": "display_data",
          "data": {
            "text/plain": [
              "<Figure size 640x480 with 1 Axes>"
            ],
            "image/png": "[encoded data removed]"
          },
          "metadata": {}
        }
      ]
    },
    {
      "cell_type": "markdown",
      "source": [
        "## Quantidade de conteúdos Americanos (Filmes e Séries de TV)"
      ],
      "metadata": {
        "id": "WXrF-kCn35Br"
      }
    },
    {
      "cell_type": "code",
      "source": [
        "data['isFromUs'] = np.where(data['orign_country'] == 'United States', 'yes', 'no')\n",
        "sns.countplot(data=data, x='isFromUs')"
      ],
      "metadata": {
        "colab": {
          "base_uri": "https://localhost:8080/",
          "height": 466
        },
        "id": "mwXRD9HJ1FCX",
        "outputId": "3ef33532-940e-496b-ccfa-278eb392d6cb"
      },
      "execution_count": 52,
      "outputs": [
        {
          "output_type": "execute_result",
          "data": {
            "text/plain": [
              "<Axes: xlabel='isFromUs', ylabel='count'>"
            ]
          },
          "metadata": {},
          "execution_count": 52
        },
        {
          "output_type": "display_data",
          "data": {
            "text/plain": [
              "<Figure size 640x480 with 1 Axes>"
            ],
            "image/png": "[encoded data removed]"
          },
          "metadata": {}
        }
      ]
    },
    {
      "cell_type": "markdown",
      "source": [
        "### Analizando pela variável Notas"
      ],
      "metadata": {
        "id": "ilBIbRIT4hu0"
      }
    },
    {
      "cell_type": "code",
      "source": [
        "sns.boxplot(data=data, y=\"rating\", x='isFromUs')"
      ],
      "metadata": {
        "colab": {
          "base_uri": "https://localhost:8080/",
          "height": 468
        },
        "id": "jqO3PEnX2yrL",
        "outputId": "a346dd7e-688a-4989-8716-744a7adc196a"
      },
      "execution_count": 58,
      "outputs": [
        {
          "output_type": "execute_result",
          "data": {
            "text/plain": [
              "<Axes: xlabel='isFromUs', ylabel='rating'>"
            ]
          },
          "metadata": {},
          "execution_count": 58
        },
        {
          "output_type": "display_data",
          "data": {
            "text/plain": [
              "<Figure size 640x480 with 1 Axes>"
            ],
            "image/png": "[encoded data removed]"
          },
          "metadata": {}
        }
      ]
    },
    {
      "cell_type": "markdown",
      "source": [
        "# Filmes em inglês tem menor audiência que filmes em outros idiomas?\n"
      ],
      "metadata": {
        "id": "AKhoNzEhnpRQ"
      }
    },
    {
      "cell_type": "markdown",
      "source": [
        "## Analizando pela varivel Num. de Votos"
      ],
      "metadata": {
        "id": "mvyg5HKI2j4X"
      }
    },
    {
      "cell_type": "code",
      "source": [
        "no_votes = df['numVotes'].isnull()\n",
        "df_filtered = df[~no_votes].copy()\n",
        "\n",
        "#df_filtered.head()"
      ],
      "metadata": {
        "id": "AEfc0w3esMYT"
      },
      "execution_count": 5,
      "outputs": []
    },
    {
      "cell_type": "code",
      "source": [
        "df_filtered = df_filtered[df_filtered['numVotes'] < 20000]\n"
      ],
      "metadata": {
        "id": "lSXRy03ExETp"
      },
      "execution_count": 6,
      "outputs": []
    },
    {
      "cell_type": "code",
      "source": [
        "non_english_films = df_filtered[(df_filtered['type'].isin(['tvSeries', 'tvEpisode', 'tvSpecial', 'tvMiniSeries'])) & (df_filtered['language'] != 'English')]['numVotes']\n",
        "english_films = df_filtered[(df_filtered['type'].isin(['tvSeries', 'tvEpisode', 'tvSpecial', 'tvMiniSeries'])) & (df_filtered['language'] == 'English')]['numVotes']\n",
        "english_series = df_filtered[(df_filtered['type'].isin(['movie', 'short', 'tvMovie', 'video', 'videoGame', 'tvShrt'])) &(df_filtered['language'] == 'English')]['numVotes']\n",
        "non_english_series = df_filtered[(df_filtered['type'].isin(['movie', 'short', 'tvMovie', 'video', 'videoGame', 'tvShrt'])) &(df_filtered['language'] != 'English')]['numVotes']\n",
        "\n",
        "print(\"Filmes em Outros Idiomas\",non_english_films.size)\n",
        "print(\"Filmes em Inglês\",english_films.size)\n",
        "print(\"Séries de TV em Outros Idiomas\",non_english_series.size)\n",
        "print(\"Séries de TV em Outros Idiomas\", english_series.size)"
      ],
      "metadata": {
        "colab": {
          "base_uri": "https://localhost:8080/"
        },
        "id": "6TGDzUBZsft8",
        "outputId": "e37f649c-233e-4ded-bac6-8b15469a0ab0"
      },
      "execution_count": 8,
      "outputs": [
        {
          "output_type": "stream",
          "name": "stdout",
          "text": [
            "Filmes em Outros Idiomas 1394\n",
            "Filmes em Inglês 1441\n",
            "Séries de TV em Outros Idiomas 1079\n",
            "Séries de TV em Outros Idiomas 1260\n"
          ]
        }
      ]
    },
    {
      "cell_type": "markdown",
      "source": [
        "## Teste T para a hipotese: Filmes em inglês tem menor audiência que filmes em outros idiomas\n"
      ],
      "metadata": {
        "id": "c48_0aMhhA6d"
      }
    },
    {
      "cell_type": "code",
      "source": [
        "t_statistic, p_value = stats.ttest_ind(non_english_films, english_films, equal_var=False)\n",
        "alpha = 0.05  # Nível de significancia\n",
        "\n",
        "if p_value < alpha:\n",
        "    print(\"Filmes com idiomas diferentes do inglês têm uma audiência significativamente menor.\")\n",
        "else:\n",
        "    print(\"Não há diferença significativa na audiência entre filmes com idiomas diferentes do inglês e filmes em inglês.\")"
      ],
      "metadata": {
        "colab": {
          "base_uri": "https://localhost:8080/"
        },
        "id": "oRTHA5K8sxo0",
        "outputId": "db039a1a-dfae-4018-f166-15edb107f10d"
      },
      "execution_count": 9,
      "outputs": [
        {
          "output_type": "stream",
          "name": "stdout",
          "text": [
            "Filmes com idiomas diferentes do inglês têm uma audiência significativamente menor.\n"
          ]
        }
      ]
    },
    {
      "cell_type": "markdown",
      "source": [
        "## Repetindo o test T para o conjunto das Séries de TV"
      ],
      "metadata": {
        "id": "4eLePzolhb4U"
      }
    },
    {
      "cell_type": "code",
      "source": [
        "t_statistic, p_value = stats.ttest_ind(non_english_series, english_series, equal_var=False)\n",
        "alpha = 0.05  # Nível de significancia\n",
        "\n",
        "if p_value < alpha:\n",
        "    print(\"Séries de TV com idiomas diferentes do inglês têm uma audiência significativamente menor.\")\n",
        "else:\n",
        "    print(\"Não há diferença significativa na audiência entre Séries de TV com idiomas diferentes do inglês e Séries de TV em inglês.\")\n"
      ],
      "metadata": {
        "colab": {
          "base_uri": "https://localhost:8080/"
        },
        "id": "mZcPV_A8WFqW",
        "outputId": "fc3efdee-f23c-4fc6-f632-e5b39e1360df"
      },
      "execution_count": 125,
      "outputs": [
        {
          "output_type": "stream",
          "name": "stdout",
          "text": [
            "Filmes com idiomas diferentes do Séries de TV têm uma audiência significativamente menor.\n"
          ]
        }
      ]
    },
    {
      "cell_type": "markdown",
      "source": [
        "### Plotanto o Histograma da Frência Relativa pelo Num. de Votos"
      ],
      "metadata": {
        "id": "0utg-m6BjVPZ"
      }
    },
    {
      "cell_type": "code",
      "source": [
        "plt.figure(figsize=(10, 6))\n",
        "\n",
        "# Histogramas de filmes em outros idiomas\n",
        "sns.histplot(non_english_films, bins=30, label='Outros Idiomas', color='blue', alpha=1,stat = 'density')\n",
        "plt.yscale('log')\n",
        "\n",
        "# Histogramas de filmes em Inglês\n",
        "sns.histplot(english_films, bins=30, label='Em Inglês', color='orange', alpha=0.5, stat = 'density')\n",
        "plt.yscale('log')\n",
        "\n",
        "plt.xlabel('Número de Votos')\n",
        "plt.ylabel('Frequência Relativa')\n",
        "plt.title('Distribuição de Número de Votos para Filmes em Inglês e em Outros Idiomas')\n",
        "plt.legend()\n",
        "plt.show()"
      ],
      "metadata": {
        "colab": {
          "base_uri": "https://localhost:8080/",
          "height": 565
        },
        "id": "rorBzN7Kt4ls",
        "outputId": "f1b53535-c0da-4eff-b966-96f0f3cf723e"
      },
      "execution_count": 123,
      "outputs": [
        {
          "output_type": "display_data",
          "data": {
            "text/plain": [
              "<Figure size 1000x600 with 1 Axes>"
            ],
            "image/png": "[encoded data removed]"
          },
          "metadata": {}
        }
      ]
    },
    {
      "cell_type": "code",
      "source": [
        "plt.figure(figsize=(10, 6))\n",
        "\n",
        "# Histogramas de Séries de TV em outros idiomas\n",
        "sns.histplot(non_english_series, bins=30, label='Outros Idiomas', color='blue', alpha=1,stat = 'density')\n",
        "plt.yscale('log')\n",
        "\n",
        "# Histogramas de Séries de TV em Inglês\n",
        "sns.histplot(english_series, bins=30, label='Em Inglês', color='orange', alpha=0.5, stat = 'density')\n",
        "plt.yscale('log')\n",
        "\n",
        "plt.xlabel('Número de Votos')\n",
        "plt.ylabel('Frequência Relativa')\n",
        "plt.title('Distribuição de Número de Votos para Séries de TV em Inglês e em Outros Idiomas')\n",
        "plt.legend()\n",
        "plt.show()"
      ],
      "metadata": {
        "colab": {
          "base_uri": "https://localhost:8080/",
          "height": 565
        },
        "id": "zFFqrPlsWZwN",
        "outputId": "f733ea7e-2e6e-48e0-e97f-3015933ae0e0"
      },
      "execution_count": 128,
      "outputs": [
        {
          "output_type": "display_data",
          "data": {
            "text/plain": [
              "<Figure size 1000x600 with 1 Axes>"
            ],
            "image/png": "[encoded data removed]"
          },
          "metadata": {}
        }
      ]
    },
    {
      "cell_type": "markdown",
      "source": [
        "# Filmes Não Americanos tem menor audiência que filmes em outros idiomas\n",
        "\n",
        "## Separando os conjuntos a serem analizados"
      ],
      "metadata": {
        "id": "aZPAD2rej74v"
      }
    },
    {
      "cell_type": "markdown",
      "source": [
        "## Analizando pela varivel Num. de Votos"
      ],
      "metadata": {
        "id": "fZuJKtpT2wrV"
      }
    },
    {
      "cell_type": "code",
      "source": [
        "non_US_series = df_filtered[(df_filtered['type'].isin(['tvSeries', 'tvEpisode', 'tvSpecial', 'tvMiniSeries']))&(df_filtered['orign_country'] != 'United States')]['numVotes']\n",
        "US_seires = df_filtered[(df_filtered['type'].isin(['tvSeries', 'tvEpisode', 'tvSpecial', 'tvMiniSeries']))&(df_filtered['orign_country'] == 'United States')]['numVotes']\n",
        "\n",
        "\n",
        "non_US_films = df_filtered[(df_filtered['type'].isin(['movie', 'short', 'tvMovie', 'video', 'videoGame', 'tvShrt']))&(df_filtered['orign_country'] != 'United States')]['numVotes']\n",
        "US_films = df_filtered[(df_filtered['type'].isin(['movie', 'short', 'tvMovie', 'video', 'videoGame', 'tvShrt']))&(df_filtered['orign_country'] == 'United States')]['numVotes']\n",
        "\n",
        "print(\"Filmes em Não Americanos\",non_US_films.size)\n",
        "print(\"Filmes em Americanos \",US_films .size)\n",
        "print(\"Séries de TV Não Americanos\",non_US_series.size)\n",
        "print(\"Séries de TV Não Americanos\", US_seires.size)"
      ],
      "metadata": {
        "colab": {
          "base_uri": "https://localhost:8080/"
        },
        "id": "AdDyeBjbC3zX",
        "outputId": "df4c795c-f046-4aad-db5a-2c39403bdd20"
      },
      "execution_count": 10,
      "outputs": [
        {
          "output_type": "stream",
          "name": "stdout",
          "text": [
            "Filmes em Não Americanos 1413\n",
            "Filmes em Americanos  926\n",
            "Séries de TV Não Americanos 1830\n",
            "Séries de TV Não Americanos 1005\n"
          ]
        }
      ]
    },
    {
      "cell_type": "markdown",
      "source": [
        "## Teste T para a hipotese: Filmes Não Americanos tem menor audiência que filmes em outros idiomas\n"
      ],
      "metadata": {
        "id": "uYwDXdXyh9_8"
      }
    },
    {
      "cell_type": "code",
      "source": [
        "t_statistic1, p_value1 = stats.ttest_ind(non_US_films, US_films, equal_var=False)\n",
        "alpha = 0.05  #Nível de significancia\n",
        "\n",
        "if p_value1 < alpha:\n",
        "    print(\"Filmes não americanos têm uma audiência significativamente menor.\")\n",
        "else:\n",
        "    print(\"Não há diferença significativa na audiência entre filmes americanos e não americanos.\")"
      ],
      "metadata": {
        "colab": {
          "base_uri": "https://localhost:8080/"
        },
        "id": "EpCDILIbD1s2",
        "outputId": "1e115fb0-f39a-425e-8569-89ed33028942"
      },
      "execution_count": 11,
      "outputs": [
        {
          "output_type": "stream",
          "name": "stdout",
          "text": [
            "Filmes não americanos têm uma audiência significativamente menor.\n"
          ]
        }
      ]
    },
    {
      "cell_type": "markdown",
      "source": [
        "## Repetindo o test T para o conjunto das Séries de TV"
      ],
      "metadata": {
        "id": "Gw5hx76JiJCJ"
      }
    },
    {
      "cell_type": "code",
      "source": [
        "t_statistic1, p_value1 = stats.ttest_ind(non_US_series, US_seires, equal_var=False)\n",
        "alpha = 0.05  # Nível de significancia\n",
        "\n",
        "if p_value1 < alpha:\n",
        "    print(\"Séries de TV não americanas têm uma audiência significativamente menor.\")\n",
        "else:\n",
        "    print(\"Não há diferença significativa na audiência entre séries de TV americanas e não americanas.\")"
      ],
      "metadata": {
        "colab": {
          "base_uri": "https://localhost:8080/"
        },
        "id": "mVJGC8n3ixgR",
        "outputId": "52c3c824-76a7-4403-e28a-43a0ae7744ce"
      },
      "execution_count": 13,
      "outputs": [
        {
          "output_type": "stream",
          "name": "stdout",
          "text": [
            "Séries de TV não americanas têm uma audiência significativamente menor.\n"
          ]
        }
      ]
    },
    {
      "cell_type": "markdown",
      "source": [
        "### Plotanto o Histograma da Frência Relativa pelo Num. de Votos"
      ],
      "metadata": {
        "id": "Wndx42wSkqv5"
      }
    },
    {
      "cell_type": "code",
      "source": [
        "plt.figure(figsize=(10, 6))\n",
        "\n",
        "# Histrograma para filmes não americanos\n",
        "sns.histplot(non_US_films, bins=30, label='Não Americanos', color='blue', alpha=1,stat = 'density')\n",
        "plt.yscale('log')\n",
        "\n",
        "# Histrograma para filmes americanos\n",
        "sns.histplot(US_films, bins=30, label='Americanos', color='orange', alpha=0.5, stat = 'density')\n",
        "plt.yscale('log')\n",
        "\n",
        "plt.xlabel('Número de Votos')\n",
        "plt.ylabel('Frequencia Relativa')\n",
        "plt.title('Distribuição de Número de Votos para Filmes Não Americanos e Americanos')\n",
        "plt.legend()\n",
        "plt.show()"
      ],
      "metadata": {
        "colab": {
          "base_uri": "https://localhost:8080/",
          "height": 565
        },
        "id": "ioOI84y6EfLs",
        "outputId": "c7fa72f8-6057-4072-d9fe-fc29cee043cf"
      },
      "execution_count": 139,
      "outputs": [
        {
          "output_type": "display_data",
          "data": {
            "text/plain": [
              "<Figure size 1000x600 with 1 Axes>"
            ],
            "image/png": "[encoded data removed]"
          },
          "metadata": {}
        }
      ]
    },
    {
      "cell_type": "code",
      "source": [
        "plt.figure(figsize=(10, 6))\n",
        "\n",
        "# Histrograma para Séries de TV não americanos\n",
        "sns.histplot(non_US_series, bins=30, label='Não Americanas', color='blue', alpha=1,stat = 'density')\n",
        "plt.yscale('log')\n",
        "\n",
        "# Histrograma para Séries de TV americanas\n",
        "sns.histplot(US_seires, bins=30, label='Americanas', color='orange', alpha=0.5, stat = 'density')\n",
        "plt.yscale('log')\n",
        "\n",
        "plt.xlabel('Número de Votos')\n",
        "plt.ylabel('Frequencia Relativa')\n",
        "plt.title('Distribuição de Número de Votos para Séries de TV Não Americanas e Americanas')\n",
        "plt.legend()\n",
        "plt.show()"
      ],
      "metadata": {
        "colab": {
          "base_uri": "https://localhost:8080/",
          "height": 565
        },
        "id": "n7jPfzqQZkZR",
        "outputId": "efaeb843-05cd-49c4-c239-4d96d87ad67a"
      },
      "execution_count": 144,
      "outputs": [
        {
          "output_type": "display_data",
          "data": {
            "text/plain": [
              "<Figure size 1000x600 with 1 Axes>"
            ],
            "image/png": "[encoded data removed]"
          },
          "metadata": {}
        }
      ]
    },
    {
      "cell_type": "markdown",
      "source": [
        "# Séries de TV têm notas maiores que Filmes?\n",
        "\n",
        "### Apagando linhas com valores nulos de notas"
      ],
      "metadata": {
        "id": "EKhXYG2lk6-v"
      }
    },
    {
      "cell_type": "code",
      "source": [
        "no_ratings = df['rating'].isnull()\n",
        "df_filtered1 = df[~no_ratings].copy()\n",
        "\n",
        "#df_filtered1.head()"
      ],
      "metadata": {
        "id": "qjYloTT6FN0P"
      },
      "execution_count": 14,
      "outputs": []
    },
    {
      "cell_type": "code",
      "source": [
        "tv_series = df_filtered1[df_filtered1['type'].isin(['tvSeries', 'tvEpisode', 'tvSpecial', 'tvMiniSeries'])]['rating']\n",
        "films = df_filtered1[df_filtered1['type'].isin(['movie', 'short', 'tvMovie', 'video', 'videoGame', 'tvShrt'])]['rating']\n",
        "\n",
        "print(\"Quantidade de Filmes:\",films.size)\n",
        "print(\"Quantidade de Series:\",tv_series.size)"
      ],
      "metadata": {
        "colab": {
          "base_uri": "https://localhost:8080/"
        },
        "id": "WC2BS450G2nW",
        "outputId": "7240ac1c-7621-46a7-c1f6-423a0cb4e203"
      },
      "execution_count": 117,
      "outputs": [
        {
          "output_type": "stream",
          "name": "stdout",
          "text": [
            "Quantidade de Filmes: 2833\n",
            "Quantidade de Series: 3162\n"
          ]
        }
      ]
    },
    {
      "cell_type": "markdown",
      "source": [
        "## Teste T para a hipotese: Séries de TV tem notas maiores que Filmes\n"
      ],
      "metadata": {
        "id": "UIqGDnOklTWj"
      }
    },
    {
      "cell_type": "code",
      "source": [
        "t_statistic2, p_value2 = stats.ttest_ind(tv_series, films, equal_var=False)\n",
        "alpha = 0.05  # Nível de significancia\n",
        "\n",
        "if p_value2 < alpha:\n",
        "    print(\"As séries de TV têm classificações significativamente mais altas do que os filmes.\")\n",
        "else:\n",
        "    print(\"Não há diferença significativa nas classificações entre séries de TV e filmes.\")"
      ],
      "metadata": {
        "colab": {
          "base_uri": "https://localhost:8080/"
        },
        "id": "1K9kfbCkHS7c",
        "outputId": "b382bd0c-8598-451a-9948-f8badd61dd89"
      },
      "execution_count": 118,
      "outputs": [
        {
          "output_type": "stream",
          "name": "stdout",
          "text": [
            "As séries de TV têm classificações significativamente mais altas do que os filmes.\n"
          ]
        }
      ]
    },
    {
      "cell_type": "markdown",
      "source": [
        "### Plotando Boxplot de Nota pelos tipos de contúdo"
      ],
      "metadata": {
        "id": "i5vju9l_lely"
      }
    },
    {
      "cell_type": "code",
      "source": [
        "data = pd.DataFrame({'Séries de TV': tv_series, 'Filmes': films})\n",
        "sns.boxplot(data=data)\n",
        "plt.xlabel('Tipo')\n",
        "plt.ylabel('Nota')\n",
        "plt.title('Comparação entre notas: Series de TV vs. Filmes')\n",
        "plt.show()"
      ],
      "metadata": {
        "colab": {
          "base_uri": "https://localhost:8080/",
          "height": 472
        },
        "id": "OlegmKMXIOtD",
        "outputId": "075549f8-505b-40c6-f36b-39a99c66362b"
      },
      "execution_count": 119,
      "outputs": [
        {
          "output_type": "display_data",
          "data": {
            "text/plain": [
              "<Figure size 640x480 with 1 Axes>"
            ],
            "image/png": "[encoded data removed]"
          },
          "metadata": {}
        }
      ]
    },
    {
      "cell_type": "markdown",
      "source": [
        "# É possivel predizer as notas dos filmes e séries por fatores como: classificação indicativa, tempo de duração e tipo?"
      ],
      "metadata": {
        "id": "LWkK4E5Ql0Nx"
      }
    },
    {
      "cell_type": "code",
      "source": [
        "features = ['certificate', 'runtime', 'type']\n",
        "target = 'rating'"
      ],
      "metadata": {
        "id": "3QKls9DliV01"
      },
      "execution_count": 200,
      "outputs": []
    },
    {
      "cell_type": "code",
      "source": [
        "df.certificate.value_counts()"
      ],
      "metadata": {
        "colab": {
          "base_uri": "https://localhost:8080/"
        },
        "id": "jvrBkpgcl3IP",
        "outputId": "b312d99d-2cdc-4013-a543-d3fab53371ab"
      },
      "execution_count": 201,
      "outputs": [
        {
          "output_type": "execute_result",
          "data": {
            "text/plain": [
              "18           625\n",
              "16           418\n",
              "13           255\n",
              "R            232\n",
              "A            148\n",
              "UA           111\n",
              "7            109\n",
              "U            104\n",
              "PG-13         97\n",
              "16+           74\n",
              "18+           58\n",
              "PG            56\n",
              "13+           22\n",
              "All           20\n",
              "15+           18\n",
              "Not Rated     16\n",
              "15            12\n",
              "12+           12\n",
              "G              7\n",
              "7+             6\n",
              "12             3\n",
              "(Banned)       3\n",
              "Unrated        2\n",
              "NC-17          1\n",
              "Name: certificate, dtype: int64"
            ]
          },
          "metadata": {},
          "execution_count": 201
        }
      ]
    },
    {
      "cell_type": "markdown",
      "source": [
        "## Ajuste do conjunto de dados"
      ],
      "metadata": {
        "id": "3zkiy8QXmF9q"
      }
    },
    {
      "cell_type": "code",
      "source": [
        "df.certificate.replace('PG-13', '13', inplace=True)\n",
        "df.certificate.replace('18+', '18', inplace=True)\n",
        "df.certificate.replace('16+', '16', inplace=True)\n",
        "df.certificate.replace('15+', '15', inplace=True)\n",
        "df.certificate.replace('12+', '12', inplace=True)\n",
        "df.certificate.replace('13+', '13', inplace=True)\n",
        "df.certificate.replace('7+', '7', inplace=True)\n",
        "df.certificate.replace('NC-17', '18', inplace=True)\n",
        "df.certificate.replace('G', 'All', inplace=True)\n",
        "df.certificate.replace('U', 'All', inplace=True)\n",
        "df.certificate.replace('UA', '13', inplace=True)\n",
        "df.certificate.replace('A', '18', inplace=True)\n",
        "df.certificate.replace('R', '18', inplace=True)\n",
        "\n",
        "\n",
        "\n",
        "df.certificate.value_counts()"
      ],
      "metadata": {
        "colab": {
          "base_uri": "https://localhost:8080/"
        },
        "id": "fKyeApeInYRM",
        "outputId": "93a549bb-fcec-4a00-e9d4-3515ea1be56d"
      },
      "execution_count": 205,
      "outputs": [
        {
          "output_type": "execute_result",
          "data": {
            "text/plain": [
              "18           1064\n",
              "16            492\n",
              "13            485\n",
              "All           131\n",
              "7             115\n",
              "PG             56\n",
              "15             30\n",
              "Not Rated      16\n",
              "12             15\n",
              "(Banned)        3\n",
              "Unrated         2\n",
              "Name: certificate, dtype: int64"
            ]
          },
          "metadata": {},
          "execution_count": 205
        }
      ]
    },
    {
      "cell_type": "code",
      "source": [
        "df.runtime.replace('\\\\N', np.nan, inplace=True)\n",
        "df.runtime.value_counts()"
      ],
      "metadata": {
        "colab": {
          "base_uri": "https://localhost:8080/"
        },
        "id": "xzHbw0lqmU20",
        "outputId": "b49223b8-7279-430e-990d-0ef30e9fda5a"
      },
      "execution_count": 206,
      "outputs": [
        {
          "output_type": "execute_result",
          "data": {
            "text/plain": [
              "60     280\n",
              "30     184\n",
              "90     161\n",
              "24     159\n",
              "45     136\n",
              "      ... \n",
              "187      1\n",
              "629      1\n",
              "189      1\n",
              "557      1\n",
              "165      1\n",
              "Name: runtime, Length: 259, dtype: int64"
            ]
          },
          "metadata": {},
          "execution_count": 206
        }
      ]
    },
    {
      "cell_type": "code",
      "source": [
        "print(df.shape)"
      ],
      "metadata": {
        "colab": {
          "base_uri": "https://localhost:8080/"
        },
        "id": "8NkG_1zMir9C",
        "outputId": "cc37c908-fa2b-47bc-cd07-e927e5832756"
      },
      "execution_count": 187,
      "outputs": [
        {
          "output_type": "stream",
          "name": "stdout",
          "text": [
            "(7008, 19)\n"
          ]
        }
      ]
    },
    {
      "cell_type": "code",
      "source": [
        "df = df.dropna(subset=features + [target])\n",
        "print(df.shape)"
      ],
      "metadata": {
        "colab": {
          "base_uri": "https://localhost:8080/"
        },
        "id": "ADP9h4C3iXks",
        "outputId": "8eefd911-e27a-4a4f-c401-f383db18a182"
      },
      "execution_count": 207,
      "outputs": [
        {
          "output_type": "stream",
          "name": "stdout",
          "text": [
            "(2127, 19)\n"
          ]
        }
      ]
    },
    {
      "cell_type": "markdown",
      "source": [
        "## Transformar as labels em valores numericos para o metodo de aprendizagem supervisionado"
      ],
      "metadata": {
        "id": "c97hGlc2mViz"
      }
    },
    {
      "cell_type": "code",
      "source": [
        "label_encoder = LabelEncoder()\n",
        "for feature in ['certificate', 'type']:\n",
        "    df[feature] = label_encoder.fit_transform(df[feature])"
      ],
      "metadata": {
        "id": "gX-lpWRSjalC"
      },
      "execution_count": 208,
      "outputs": []
    },
    {
      "cell_type": "markdown",
      "source": [
        "## Sepração dos conjuntos de treino e teste"
      ],
      "metadata": {
        "id": "Hy-iAoiSmsK0"
      }
    },
    {
      "cell_type": "code",
      "source": [
        "# Split the data into training and testing sets\n",
        "X = df[features]\n",
        "y = df[target]\n",
        "X_train, X_test, y_train, y_test = train_test_split(X, y, test_size=0.2, random_state=42)"
      ],
      "metadata": {
        "id": "hcOQX-qlk72M"
      },
      "execution_count": 217,
      "outputs": []
    },
    {
      "cell_type": "markdown",
      "source": [
        "## Criação dos Modelos"
      ],
      "metadata": {
        "id": "G8B6HgSqm0nI"
      }
    },
    {
      "cell_type": "code",
      "source": [
        "# Definindo o modelo\n",
        "model = LinearRegression()\n",
        "\n",
        "# Treinando o modelo\n",
        "model.fit(X_train, y_train)"
      ],
      "metadata": {
        "colab": {
          "base_uri": "https://localhost:8080/",
          "height": 74
        },
        "id": "9SLQRb_rlK63",
        "outputId": "863e927d-7e91-46fd-fcb4-e72a72062653"
      },
      "execution_count": 210,
      "outputs": [
        {
          "output_type": "execute_result",
          "data": {
            "text/plain": [
              "LinearRegression()"
            ],
            "text/html": [
              "<style>#sk-container-id-2 {color: black;background-color: white;}#sk-container-id-2 pre{padding: 0;}#sk-container-id-2 div.sk-toggleable {background-color: white;}#sk-container-id-2 label.sk-toggleable__label {cursor: pointer;display: block;width: 100%;margin-bottom: 0;padding: 0.3em;box-sizing: border-box;text-align: center;}#sk-container-id-2 label.sk-toggleable__label-arrow:before {content: \"▸\";float: left;margin-right: 0.25em;color: #696969;}#sk-container-id-2 label.sk-toggleable__label-arrow:hover:before {color: black;}#sk-container-id-2 div.sk-estimator:hover label.sk-toggleable__label-arrow:before {color: black;}#sk-container-id-2 div.sk-toggleable__content {max-height: 0;max-width: 0;overflow: hidden;text-align: left;background-color: #f0f8ff;}#sk-container-id-2 div.sk-toggleable__content pre {margin: 0.2em;color: black;border-radius: 0.25em;background-color: #f0f8ff;}#sk-container-id-2 input.sk-toggleable__control:checked~div.sk-toggleable__content {max-height: 200px;max-width: 100%;overflow: auto;}#sk-container-id-2 input.sk-toggleable__control:checked~label.sk-toggleable__label-arrow:before {content: \"▾\";}#sk-container-id-2 div.sk-estimator input.sk-toggleable__control:checked~label.sk-toggleable__label {background-color: #d4ebff;}#sk-container-id-2 div.sk-label input.sk-toggleable__control:checked~label.sk-toggleable__label {background-color: #d4ebff;}#sk-container-id-2 input.sk-hidden--visually {border: 0;clip: rect(1px 1px 1px 1px);clip: rect(1px, 1px, 1px, 1px);height: 1px;margin: -1px;overflow: hidden;padding: 0;position: absolute;width: 1px;}#sk-container-id-2 div.sk-estimator {font-family: monospace;background-color: #f0f8ff;border: 1px dotted black;border-radius: 0.25em;box-sizing: border-box;margin-bottom: 0.5em;}#sk-container-id-2 div.sk-estimator:hover {background-color: #d4ebff;}#sk-container-id-2 div.sk-parallel-item::after {content: \"\";width: 100%;border-bottom: 1px solid gray;flex-grow: 1;}#sk-container-id-2 div.sk-label:hover label.sk-toggleable__label {background-color: #d4ebff;}#sk-container-id-2 div.sk-serial::before {content: \"\";position: absolute;border-left: 1px solid gray;box-sizing: border-box;top: 0;bottom: 0;left: 50%;z-index: 0;}#sk-container-id-2 div.sk-serial {display: flex;flex-direction: column;align-items: center;background-color: white;padding-right: 0.2em;padding-left: 0.2em;position: relative;}#sk-container-id-2 div.sk-item {position: relative;z-index: 1;}#sk-container-id-2 div.sk-parallel {display: flex;align-items: stretch;justify-content: center;background-color: white;position: relative;}#sk-container-id-2 div.sk-item::before, #sk-container-id-2 div.sk-parallel-item::before {content: \"\";position: absolute;border-left: 1px solid gray;box-sizing: border-box;top: 0;bottom: 0;left: 50%;z-index: -1;}#sk-container-id-2 div.sk-parallel-item {display: flex;flex-direction: column;z-index: 1;position: relative;background-color: white;}#sk-container-id-2 div.sk-parallel-item:first-child::after {align-self: flex-end;width: 50%;}#sk-container-id-2 div.sk-parallel-item:last-child::after {align-self: flex-start;width: 50%;}#sk-container-id-2 div.sk-parallel-item:only-child::after {width: 0;}#sk-container-id-2 div.sk-dashed-wrapped {border: 1px dashed gray;margin: 0 0.4em 0.5em 0.4em;box-sizing: border-box;padding-bottom: 0.4em;background-color: white;}#sk-container-id-2 div.sk-label label {font-family: monospace;font-weight: bold;display: inline-block;line-height: 1.2em;}#sk-container-id-2 div.sk-label-container {text-align: center;}#sk-container-id-2 div.sk-container {/* jupyter's `normalize.less` sets `[hidden] { display: none; }` but bootstrap.min.css set `[hidden] { display: none !important; }` so we also need the `!important` here to be able to override the default hidden behavior on the sphinx rendered scikit-learn.org. See: https://github.com/scikit-learn/scikit-learn/issues/21755 */display: inline-block !important;position: relative;}#sk-container-id-2 div.sk-text-repr-fallback {display: none;}</style><div id=\"sk-container-id-2\" class=\"sk-top-container\"><div class=\"sk-text-repr-fallback\"><pre>LinearRegression()</pre><b>In a Jupyter environment, please rerun this cell to show the HTML representation or trust the notebook. <br />On GitHub, the HTML representation is unable to render, please try loading this page with nbviewer.org.</b></div><div class=\"sk-container\" hidden><div class=\"sk-item\"><div class=\"sk-estimator sk-toggleable\"><input class=\"sk-toggleable__control sk-hidden--visually\" id=\"sk-estimator-id-2\" type=\"checkbox\" checked><label for=\"sk-estimator-id-2\" class=\"sk-toggleable__label sk-toggleable__label-arrow\">LinearRegression</label><div class=\"sk-toggleable__content\"><pre>LinearRegression()</pre></div></div></div></div></div>"
            ]
          },
          "metadata": {},
          "execution_count": 210
        }
      ]
    },
    {
      "cell_type": "code",
      "source": [
        "# Create the Random Forest regressor\n",
        "model = RandomForestRegressor()\n",
        "\n",
        "# Train the model\n",
        "model.fit(X_train, y_train)\n"
      ],
      "metadata": {
        "colab": {
          "base_uri": "https://localhost:8080/",
          "height": 74
        },
        "id": "SA6094aIvlfe",
        "outputId": "d9356fc5-df7a-48f9-825b-499e330e76fa"
      },
      "execution_count": 218,
      "outputs": [
        {
          "output_type": "execute_result",
          "data": {
            "text/plain": [
              "RandomForestRegressor()"
            ],
            "text/html": [
              "<style>#sk-container-id-3 {color: black;background-color: white;}#sk-container-id-3 pre{padding: 0;}#sk-container-id-3 div.sk-toggleable {background-color: white;}#sk-container-id-3 label.sk-toggleable__label {cursor: pointer;display: block;width: 100%;margin-bottom: 0;padding: 0.3em;box-sizing: border-box;text-align: center;}#sk-container-id-3 label.sk-toggleable__label-arrow:before {content: \"▸\";float: left;margin-right: 0.25em;color: #696969;}#sk-container-id-3 label.sk-toggleable__label-arrow:hover:before {color: black;}#sk-container-id-3 div.sk-estimator:hover label.sk-toggleable__label-arrow:before {color: black;}#sk-container-id-3 div.sk-toggleable__content {max-height: 0;max-width: 0;overflow: hidden;text-align: left;background-color: #f0f8ff;}#sk-container-id-3 div.sk-toggleable__content pre {margin: 0.2em;color: black;border-radius: 0.25em;background-color: #f0f8ff;}#sk-container-id-3 input.sk-toggleable__control:checked~div.sk-toggleable__content {max-height: 200px;max-width: 100%;overflow: auto;}#sk-container-id-3 input.sk-toggleable__control:checked~label.sk-toggleable__label-arrow:before {content: \"▾\";}#sk-container-id-3 div.sk-estimator input.sk-toggleable__control:checked~label.sk-toggleable__label {background-color: #d4ebff;}#sk-container-id-3 div.sk-label input.sk-toggleable__control:checked~label.sk-toggleable__label {background-color: #d4ebff;}#sk-container-id-3 input.sk-hidden--visually {border: 0;clip: rect(1px 1px 1px 1px);clip: rect(1px, 1px, 1px, 1px);height: 1px;margin: -1px;overflow: hidden;padding: 0;position: absolute;width: 1px;}#sk-container-id-3 div.sk-estimator {font-family: monospace;background-color: #f0f8ff;border: 1px dotted black;border-radius: 0.25em;box-sizing: border-box;margin-bottom: 0.5em;}#sk-container-id-3 div.sk-estimator:hover {background-color: #d4ebff;}#sk-container-id-3 div.sk-parallel-item::after {content: \"\";width: 100%;border-bottom: 1px solid gray;flex-grow: 1;}#sk-container-id-3 div.sk-label:hover label.sk-toggleable__label {background-color: #d4ebff;}#sk-container-id-3 div.sk-serial::before {content: \"\";position: absolute;border-left: 1px solid gray;box-sizing: border-box;top: 0;bottom: 0;left: 50%;z-index: 0;}#sk-container-id-3 div.sk-serial {display: flex;flex-direction: column;align-items: center;background-color: white;padding-right: 0.2em;padding-left: 0.2em;position: relative;}#sk-container-id-3 div.sk-item {position: relative;z-index: 1;}#sk-container-id-3 div.sk-parallel {display: flex;align-items: stretch;justify-content: center;background-color: white;position: relative;}#sk-container-id-3 div.sk-item::before, #sk-container-id-3 div.sk-parallel-item::before {content: \"\";position: absolute;border-left: 1px solid gray;box-sizing: border-box;top: 0;bottom: 0;left: 50%;z-index: -1;}#sk-container-id-3 div.sk-parallel-item {display: flex;flex-direction: column;z-index: 1;position: relative;background-color: white;}#sk-container-id-3 div.sk-parallel-item:first-child::after {align-self: flex-end;width: 50%;}#sk-container-id-3 div.sk-parallel-item:last-child::after {align-self: flex-start;width: 50%;}#sk-container-id-3 div.sk-parallel-item:only-child::after {width: 0;}#sk-container-id-3 div.sk-dashed-wrapped {border: 1px dashed gray;margin: 0 0.4em 0.5em 0.4em;box-sizing: border-box;padding-bottom: 0.4em;background-color: white;}#sk-container-id-3 div.sk-label label {font-family: monospace;font-weight: bold;display: inline-block;line-height: 1.2em;}#sk-container-id-3 div.sk-label-container {text-align: center;}#sk-container-id-3 div.sk-container {/* jupyter's `normalize.less` sets `[hidden] { display: none; }` but bootstrap.min.css set `[hidden] { display: none !important; }` so we also need the `!important` here to be able to override the default hidden behavior on the sphinx rendered scikit-learn.org. See: https://github.com/scikit-learn/scikit-learn/issues/21755 */display: inline-block !important;position: relative;}#sk-container-id-3 div.sk-text-repr-fallback {display: none;}</style><div id=\"sk-container-id-3\" class=\"sk-top-container\"><div class=\"sk-text-repr-fallback\"><pre>RandomForestRegressor()</pre><b>In a Jupyter environment, please rerun this cell to show the HTML representation or trust the notebook. <br />On GitHub, the HTML representation is unable to render, please try loading this page with nbviewer.org.</b></div><div class=\"sk-container\" hidden><div class=\"sk-item\"><div class=\"sk-estimator sk-toggleable\"><input class=\"sk-toggleable__control sk-hidden--visually\" id=\"sk-estimator-id-3\" type=\"checkbox\" checked><label for=\"sk-estimator-id-3\" class=\"sk-toggleable__label sk-toggleable__label-arrow\">RandomForestRegressor</label><div class=\"sk-toggleable__content\"><pre>RandomForestRegressor()</pre></div></div></div></div></div>"
            ]
          },
          "metadata": {},
          "execution_count": 218
        }
      ]
    },
    {
      "cell_type": "markdown",
      "source": [
        "## Predição utilizando o modelo"
      ],
      "metadata": {
        "id": "ZerwBChQm5ou"
      }
    },
    {
      "cell_type": "markdown",
      "source": [],
      "metadata": {
        "id": "muoCLiBWm-hC"
      }
    },
    {
      "cell_type": "code",
      "source": [
        "y_pred = model.predict(X_test)"
      ],
      "metadata": {
        "id": "shuNHsNUpRT4"
      },
      "execution_count": 219,
      "outputs": []
    },
    {
      "cell_type": "markdown",
      "source": [
        "## Avaliação do Modelo"
      ],
      "metadata": {
        "id": "F2XuO9BVm8zH"
      }
    },
    {
      "cell_type": "code",
      "source": [
        "mse = mean_squared_error(y_test, y_pred)\n",
        "mae = mean_absolute_error(y_test, y_pred)\n",
        "r2 = r2_score(y_test, y_pred)\n",
        "\n",
        "print('Mean Squared Error:', mse)\n",
        "print('Mean Absolute Error:', mae)\n",
        "print('R-squared:', r2)"
      ],
      "metadata": {
        "colab": {
          "base_uri": "https://localhost:8080/"
        },
        "id": "QTZPWV7YpTjC",
        "outputId": "f58cfd38-e729-4428-f7d3-8f40b6c1f893"
      },
      "execution_count": 220,
      "outputs": [
        {
          "output_type": "stream",
          "name": "stdout",
          "text": [
            "Mean Squared Error: 1.1175982323841613\n",
            "Mean Absolute Error: 0.8028178509498731\n",
            "R-squared: 0.23888024033971245\n"
          ]
        }
      ]
    },
    {
      "cell_type": "markdown",
      "source": [
        "### Vizualização da aplicação do Modelo"
      ],
      "metadata": {
        "id": "WcTB5tADnBxn"
      }
    },
    {
      "cell_type": "code",
      "source": [
        "# Plot the actual ratings\n",
        "plt.scatter(y_test, y_pred, alpha=0.5, color='orange', label='Predito', marker='o')\n",
        "# Plot the predicted ratings\n",
        "plt.scatter(y_test, y_test, alpha=0.5, color='blue', label='Real', marker='x')\n",
        "\n",
        "plt.xlabel('Notas Reais')\n",
        "plt.ylabel('Notas Preditas')\n",
        "plt.title('Real vs. Predito')\n",
        "plt.legend()\n",
        "plt.show()"
      ],
      "metadata": {
        "colab": {
          "base_uri": "https://localhost:8080/",
          "height": 472
        },
        "id": "ljV_RpA5prXs",
        "outputId": "1f21767c-1df2-4981-98bd-ef315cd8295a"
      },
      "execution_count": 221,
      "outputs": [
        {
          "output_type": "display_data",
          "data": {
            "text/plain": [
              "<Figure size 640x480 with 1 Axes>"
            ],
            "image/png": "[encoded data removed]"
          },
          "metadata": {}
        }
      ]
    },
    {
      "cell_type": "markdown",
      "source": [
        "# É possível identificar diferentes clusters de filmes/séries com base no plot?\n"
      ],
      "metadata": {
        "id": "16OSkZgFpQnX"
      }
    },
    {
      "cell_type": "code",
      "source": [
        "df_original = pd.read_csv(\"netflix_list.csv\")\n",
        "df_original.head(2)"
      ],
      "metadata": {
        "colab": {
          "base_uri": "https://localhost:8080/",
          "height": 362
        },
        "id": "8TKkDvF_ppc_",
        "outputId": "ae9a857b-7468-421d-faec-15ed00cf3b3a"
      },
      "execution_count": 15,
      "outputs": [
        {
          "output_type": "execute_result",
          "data": {
            "text/plain": [
              "     imdb_id             title popular_rank certificate  startYear  endYear  \\\n",
              "0  tt4052886           Lucifer            1          15     2016.0      NaN   \n",
              "1  tt0993840  Army of the Dead            2          18     2021.0      NaN   \n",
              "\n",
              "   episodes runtime      type  orign_country language  \\\n",
              "0      93.0      42  tvSeries  United States  English   \n",
              "1       NaN     148     movie  United States  English   \n",
              "\n",
              "                                                plot  \\\n",
              "0  Lucifer Morningstar has decided he's had enoug...   \n",
              "1  Following a zombie outbreak in Las Vegas, a gr...   \n",
              "\n",
              "                                             summary  rating  numVotes  \\\n",
              "0  Lucifer Morningstar, bored from his sulking li...     8.1  250884.0   \n",
              "1  With the abandoned, walled city of Las Vegas o...     5.8  110780.0   \n",
              "\n",
              "                genres  isAdult  \\\n",
              "0  Crime,Drama,Fantasy        0   \n",
              "1  Action,Crime,Horror        0   \n",
              "\n",
              "                                                cast  \\\n",
              "0  ['Tom Ellis', 'Lauren German', 'Lesley-Ann Bra...   \n",
              "1  ['Dave Bautista', 'Ella Purnell', 'Ana de la R...   \n",
              "\n",
              "                                           image_url  \n",
              "0  https://m.media-amazon.com/images/M/MV5BNzY1Yj...  \n",
              "1  https://m.media-amazon.com/images/M/MV5BNGY0Nz...  "
            ],
            "text/html": [
              "\n",
              "\n",
              "  <div id=\"df-6d990b5f-961b-4485-8668-93010a4178e4\">\n",
              "    <div class=\"colab-df-container\">\n",
              "      <div>\n",
              "<style scoped>\n",
              "    .dataframe tbody tr th:only-of-type {\n",
              "        vertical-align: middle;\n",
              "    }\n",
              "\n",
              "    .dataframe tbody tr th {\n",
              "        vertical-align: top;\n",
              "    }\n",
              "\n",
              "    .dataframe thead th {\n",
              "        text-align: right;\n",
              "    }\n",
              "</style>\n",
              "<table border=\"1\" class=\"dataframe\">\n",
              "  <thead>\n",
              "    <tr style=\"text-align: right;\">\n",
              "      <th></th>\n",
              "      <th>imdb_id</th>\n",
              "      <th>title</th>\n",
              "      <th>popular_rank</th>\n",
              "      <th>certificate</th>\n",
              "      <th>startYear</th>\n",
              "      <th>endYear</th>\n",
              "      <th>episodes</th>\n",
              "      <th>runtime</th>\n",
              "      <th>type</th>\n",
              "      <th>orign_country</th>\n",
              "      <th>language</th>\n",
              "      <th>plot</th>\n",
              "      <th>summary</th>\n",
              "      <th>rating</th>\n",
              "      <th>numVotes</th>\n",
              "      <th>genres</th>\n",
              "      <th>isAdult</th>\n",
              "      <th>cast</th>\n",
              "      <th>image_url</th>\n",
              "    </tr>\n",
              "  </thead>\n",
              "  <tbody>\n",
              "    <tr>\n",
              "      <th>0</th>\n",
              "      <td>tt4052886</td>\n",
              "      <td>Lucifer</td>\n",
              "      <td>1</td>\n",
              "      <td>15</td>\n",
              "      <td>2016.0</td>\n",
              "      <td>NaN</td>\n",
              "      <td>93.0</td>\n",
              "      <td>42</td>\n",
              "      <td>tvSeries</td>\n",
              "      <td>United States</td>\n",
              "      <td>English</td>\n",
              "      <td>Lucifer Morningstar has decided he's had enoug...</td>\n",
              "      <td>Lucifer Morningstar, bored from his sulking li...</td>\n",
              "      <td>8.1</td>\n",
              "      <td>250884.0</td>\n",
              "      <td>Crime,Drama,Fantasy</td>\n",
              "      <td>0</td>\n",
              "      <td>['Tom Ellis', 'Lauren German', 'Lesley-Ann Bra...</td>\n",
              "      <td>https://m.media-amazon.com/images/M/MV5BNzY1Yj...</td>\n",
              "    </tr>\n",
              "    <tr>\n",
              "      <th>1</th>\n",
              "      <td>tt0993840</td>\n",
              "      <td>Army of the Dead</td>\n",
              "      <td>2</td>\n",
              "      <td>18</td>\n",
              "      <td>2021.0</td>\n",
              "      <td>NaN</td>\n",
              "      <td>NaN</td>\n",
              "      <td>148</td>\n",
              "      <td>movie</td>\n",
              "      <td>United States</td>\n",
              "      <td>English</td>\n",
              "      <td>Following a zombie outbreak in Las Vegas, a gr...</td>\n",
              "      <td>With the abandoned, walled city of Las Vegas o...</td>\n",
              "      <td>5.8</td>\n",
              "      <td>110780.0</td>\n",
              "      <td>Action,Crime,Horror</td>\n",
              "      <td>0</td>\n",
              "      <td>['Dave Bautista', 'Ella Purnell', 'Ana de la R...</td>\n",
              "      <td>https://m.media-amazon.com/images/M/MV5BNGY0Nz...</td>\n",
              "    </tr>\n",
              "  </tbody>\n",
              "</table>\n",
              "</div>\n",
              "      <button class=\"colab-df-convert\" onclick=\"convertToInteractive('df-6d990b5f-961b-4485-8668-93010a4178e4')\"\n",
              "              title=\"Convert this dataframe to an interactive table.\"\n",
              "              style=\"display:none;\">\n",
              "\n",
              "  <svg xmlns=\"http://www.w3.org/2000/svg\" height=\"24px\"viewBox=\"0 0 24 24\"\n",
              "       width=\"24px\">\n",
              "    <path d=\"M0 0h24v24H0V0z\" fill=\"none\"/>\n",
              "    <path d=\"M18.56 5.44l.94 2.06.94-2.06 2.06-.94-2.06-.94-.94-2.06-.94 2.06-2.06.94zm-11 1L8.5 8.5l.94-2.06 2.06-.94-2.06-.94L8.5 2.5l-.94 2.06-2.06.94zm10 10l.94 2.06.94-2.06 2.06-.94-2.06-.94-.94-2.06-.94 2.06-2.06.94z\"/><path d=\"M17.41 7.96l-1.37-1.37c-.4-.4-.92-.59-1.43-.59-.52 0-1.04.2-1.43.59L10.3 9.45l-7.72 7.72c-.78.78-.78 2.05 0 2.83L4 21.41c.39.39.9.59 1.41.59.51 0 1.02-.2 1.41-.59l7.78-7.78 2.81-2.81c.8-.78.8-2.07 0-2.86zM5.41 20L4 18.59l7.72-7.72 1.47 1.35L5.41 20z\"/>\n",
              "  </svg>\n",
              "      </button>\n",
              "\n",
              "\n",
              "\n",
              "    <div id=\"df-86d97acd-b99a-4003-87ae-6c374e0d6b25\">\n",
              "      <button class=\"colab-df-quickchart\" onclick=\"quickchart('df-86d97acd-b99a-4003-87ae-6c374e0d6b25')\"\n",
              "              title=\"Suggest charts.\"\n",
              "              style=\"display:none;\">\n",
              "\n",
              "<svg xmlns=\"http://www.w3.org/2000/svg\" height=\"24px\"viewBox=\"0 0 24 24\"\n",
              "     width=\"24px\">\n",
              "    <g>\n",
              "        <path d=\"M19 3H5c-1.1 0-2 .9-2 2v14c0 1.1.9 2 2 2h14c1.1 0 2-.9 2-2V5c0-1.1-.9-2-2-2zM9 17H7v-7h2v7zm4 0h-2V7h2v10zm4 0h-2v-4h2v4z\"/>\n",
              "    </g>\n",
              "</svg>\n",
              "      </button>\n",
              "    </div>\n",
              "\n",
              "<style>\n",
              "  .colab-df-quickchart {\n",
              "    background-color: #E8F0FE;\n",
              "    border: none;\n",
              "    border-radius: 50%;\n",
              "    cursor: pointer;\n",
              "    display: none;\n",
              "    fill: #1967D2;\n",
              "    height: 32px;\n",
              "    padding: 0 0 0 0;\n",
              "    width: 32px;\n",
              "  }\n",
              "\n",
              "  .colab-df-quickchart:hover {\n",
              "    background-color: #E2EBFA;\n",
              "    box-shadow: 0px 1px 2px rgba(60, 64, 67, 0.3), 0px 1px 3px 1px rgba(60, 64, 67, 0.15);\n",
              "    fill: #174EA6;\n",
              "  }\n",
              "\n",
              "  [theme=dark] .colab-df-quickchart {\n",
              "    background-color: #3B4455;\n",
              "    fill: #D2E3FC;\n",
              "  }\n",
              "\n",
              "  [theme=dark] .colab-df-quickchart:hover {\n",
              "    background-color: #434B5C;\n",
              "    box-shadow: 0px 1px 3px 1px rgba(0, 0, 0, 0.15);\n",
              "    filter: drop-shadow(0px 1px 2px rgba(0, 0, 0, 0.3));\n",
              "    fill: #FFFFFF;\n",
              "  }\n",
              "</style>\n",
              "\n",
              "    <script>\n",
              "      async function quickchart(key) {\n",
              "        const containerElement = document.querySelector('#' + key);\n",
              "        const charts = await google.colab.kernel.invokeFunction(\n",
              "            'suggestCharts', [key], {});\n",
              "      }\n",
              "    </script>\n",
              "\n",
              "      <script>\n",
              "\n",
              "function displayQuickchartButton(domScope) {\n",
              "  let quickchartButtonEl =\n",
              "    domScope.querySelector('#df-86d97acd-b99a-4003-87ae-6c374e0d6b25 button.colab-df-quickchart');\n",
              "  quickchartButtonEl.style.display =\n",
              "    google.colab.kernel.accessAllowed ? 'block' : 'none';\n",
              "}\n",
              "\n",
              "        displayQuickchartButton(document);\n",
              "      </script>\n",
              "      <style>\n",
              "    .colab-df-container {\n",
              "      display:flex;\n",
              "      flex-wrap:wrap;\n",
              "      gap: 12px;\n",
              "    }\n",
              "\n",
              "    .colab-df-convert {\n",
              "      background-color: #E8F0FE;\n",
              "      border: none;\n",
              "      border-radius: 50%;\n",
              "      cursor: pointer;\n",
              "      display: none;\n",
              "      fill: #1967D2;\n",
              "      height: 32px;\n",
              "      padding: 0 0 0 0;\n",
              "      width: 32px;\n",
              "    }\n",
              "\n",
              "    .colab-df-convert:hover {\n",
              "      background-color: #E2EBFA;\n",
              "      box-shadow: 0px 1px 2px rgba(60, 64, 67, 0.3), 0px 1px 3px 1px rgba(60, 64, 67, 0.15);\n",
              "      fill: #174EA6;\n",
              "    }\n",
              "\n",
              "    [theme=dark] .colab-df-convert {\n",
              "      background-color: #3B4455;\n",
              "      fill: #D2E3FC;\n",
              "    }\n",
              "\n",
              "    [theme=dark] .colab-df-convert:hover {\n",
              "      background-color: #434B5C;\n",
              "      box-shadow: 0px 1px 3px 1px rgba(0, 0, 0, 0.15);\n",
              "      filter: drop-shadow(0px 1px 2px rgba(0, 0, 0, 0.3));\n",
              "      fill: #FFFFFF;\n",
              "    }\n",
              "  </style>\n",
              "\n",
              "      <script>\n",
              "        const buttonEl =\n",
              "          document.querySelector('#df-6d990b5f-961b-4485-8668-93010a4178e4 button.colab-df-convert');\n",
              "        buttonEl.style.display =\n",
              "          google.colab.kernel.accessAllowed ? 'block' : 'none';\n",
              "\n",
              "        async function convertToInteractive(key) {\n",
              "          const element = document.querySelector('#df-6d990b5f-961b-4485-8668-93010a4178e4');\n",
              "          const dataTable =\n",
              "            await google.colab.kernel.invokeFunction('convertToInteractive',\n",
              "                                                     [key], {});\n",
              "          if (!dataTable) return;\n",
              "\n",
              "          const docLinkHtml = 'Like what you see? Visit the ' +\n",
              "            '<a target=\"_blank\" href=https://colab.research.google.com/notebooks/data_table.ipynb>data table notebook</a>'\n",
              "            + ' to learn more about interactive tables.';\n",
              "          element.innerHTML = '';\n",
              "          dataTable['output_type'] = 'display_data';\n",
              "          await google.colab.output.renderOutput(dataTable, element);\n",
              "          const docLink = document.createElement('div');\n",
              "          docLink.innerHTML = docLinkHtml;\n",
              "          element.appendChild(docLink);\n",
              "        }\n",
              "      </script>\n",
              "    </div>\n",
              "  </div>\n"
            ]
          },
          "metadata": {},
          "execution_count": 15
        }
      ]
    },
    {
      "cell_type": "code",
      "source": [
        "df = df_original[[\"imdb_id\",\"plot\", \"rating\"]]\n",
        "df = df.dropna()\n",
        "df.reset_index(inplace=True, drop=True)\n",
        "df.tail(2)"
      ],
      "metadata": {
        "colab": {
          "base_uri": "https://localhost:8080/",
          "height": 111
        },
        "id": "hUDVWYT3p8f1",
        "outputId": "9d10750b-d896-44e1-b31f-88f776617af2"
      },
      "execution_count": 33,
      "outputs": [
        {
          "output_type": "execute_result",
          "data": {
            "text/plain": [
              "        imdb_id                                               plot  rating\n",
              "5835  tt9817600  The life of Michael Bentt, a champion boxer fo...     8.0\n",
              "5836  tt9842922  Kate experiences the force of nature that is T...     7.3"
            ],
            "text/html": [
              "\n",
              "\n",
              "  <div id=\"df-f1d2ff6b-6f9c-4d0f-b5fe-1b59ce5702f0\">\n",
              "    <div class=\"colab-df-container\">\n",
              "      <div>\n",
              "<style scoped>\n",
              "    .dataframe tbody tr th:only-of-type {\n",
              "        vertical-align: middle;\n",
              "    }\n",
              "\n",
              "    .dataframe tbody tr th {\n",
              "        vertical-align: top;\n",
              "    }\n",
              "\n",
              "    .dataframe thead th {\n",
              "        text-align: right;\n",
              "    }\n",
              "</style>\n",
              "<table border=\"1\" class=\"dataframe\">\n",
              "  <thead>\n",
              "    <tr style=\"text-align: right;\">\n",
              "      <th></th>\n",
              "      <th>imdb_id</th>\n",
              "      <th>plot</th>\n",
              "      <th>rating</th>\n",
              "    </tr>\n",
              "  </thead>\n",
              "  <tbody>\n",
              "    <tr>\n",
              "      <th>5835</th>\n",
              "      <td>tt9817600</td>\n",
              "      <td>The life of Michael Bentt, a champion boxer fo...</td>\n",
              "      <td>8.0</td>\n",
              "    </tr>\n",
              "    <tr>\n",
              "      <th>5836</th>\n",
              "      <td>tt9842922</td>\n",
              "      <td>Kate experiences the force of nature that is T...</td>\n",
              "      <td>7.3</td>\n",
              "    </tr>\n",
              "  </tbody>\n",
              "</table>\n",
              "</div>\n",
              "      <button class=\"colab-df-convert\" onclick=\"convertToInteractive('df-f1d2ff6b-6f9c-4d0f-b5fe-1b59ce5702f0')\"\n",
              "              title=\"Convert this dataframe to an interactive table.\"\n",
              "              style=\"display:none;\">\n",
              "\n",
              "  <svg xmlns=\"http://www.w3.org/2000/svg\" height=\"24px\"viewBox=\"0 0 24 24\"\n",
              "       width=\"24px\">\n",
              "    <path d=\"M0 0h24v24H0V0z\" fill=\"none\"/>\n",
              "    <path d=\"M18.56 5.44l.94 2.06.94-2.06 2.06-.94-2.06-.94-.94-2.06-.94 2.06-2.06.94zm-11 1L8.5 8.5l.94-2.06 2.06-.94-2.06-.94L8.5 2.5l-.94 2.06-2.06.94zm10 10l.94 2.06.94-2.06 2.06-.94-2.06-.94-.94-2.06-.94 2.06-2.06.94z\"/><path d=\"M17.41 7.96l-1.37-1.37c-.4-.4-.92-.59-1.43-.59-.52 0-1.04.2-1.43.59L10.3 9.45l-7.72 7.72c-.78.78-.78 2.05 0 2.83L4 21.41c.39.39.9.59 1.41.59.51 0 1.02-.2 1.41-.59l7.78-7.78 2.81-2.81c.8-.78.8-2.07 0-2.86zM5.41 20L4 18.59l7.72-7.72 1.47 1.35L5.41 20z\"/>\n",
              "  </svg>\n",
              "      </button>\n",
              "\n",
              "\n",
              "\n",
              "    <div id=\"df-0a3a2922-a8f5-408c-85cf-b43de9941de1\">\n",
              "      <button class=\"colab-df-quickchart\" onclick=\"quickchart('df-0a3a2922-a8f5-408c-85cf-b43de9941de1')\"\n",
              "              title=\"Suggest charts.\"\n",
              "              style=\"display:none;\">\n",
              "\n",
              "<svg xmlns=\"http://www.w3.org/2000/svg\" height=\"24px\"viewBox=\"0 0 24 24\"\n",
              "     width=\"24px\">\n",
              "    <g>\n",
              "        <path d=\"M19 3H5c-1.1 0-2 .9-2 2v14c0 1.1.9 2 2 2h14c1.1 0 2-.9 2-2V5c0-1.1-.9-2-2-2zM9 17H7v-7h2v7zm4 0h-2V7h2v10zm4 0h-2v-4h2v4z\"/>\n",
              "    </g>\n",
              "</svg>\n",
              "      </button>\n",
              "    </div>\n",
              "\n",
              "<style>\n",
              "  .colab-df-quickchart {\n",
              "    background-color: #E8F0FE;\n",
              "    border: none;\n",
              "    border-radius: 50%;\n",
              "    cursor: pointer;\n",
              "    display: none;\n",
              "    fill: #1967D2;\n",
              "    height: 32px;\n",
              "    padding: 0 0 0 0;\n",
              "    width: 32px;\n",
              "  }\n",
              "\n",
              "  .colab-df-quickchart:hover {\n",
              "    background-color: #E2EBFA;\n",
              "    box-shadow: 0px 1px 2px rgba(60, 64, 67, 0.3), 0px 1px 3px 1px rgba(60, 64, 67, 0.15);\n",
              "    fill: #174EA6;\n",
              "  }\n",
              "\n",
              "  [theme=dark] .colab-df-quickchart {\n",
              "    background-color: #3B4455;\n",
              "    fill: #D2E3FC;\n",
              "  }\n",
              "\n",
              "  [theme=dark] .colab-df-quickchart:hover {\n",
              "    background-color: #434B5C;\n",
              "    box-shadow: 0px 1px 3px 1px rgba(0, 0, 0, 0.15);\n",
              "    filter: drop-shadow(0px 1px 2px rgba(0, 0, 0, 0.3));\n",
              "    fill: #FFFFFF;\n",
              "  }\n",
              "</style>\n",
              "\n",
              "    <script>\n",
              "      async function quickchart(key) {\n",
              "        const containerElement = document.querySelector('#' + key);\n",
              "        const charts = await google.colab.kernel.invokeFunction(\n",
              "            'suggestCharts', [key], {});\n",
              "      }\n",
              "    </script>\n",
              "\n",
              "      <script>\n",
              "\n",
              "function displayQuickchartButton(domScope) {\n",
              "  let quickchartButtonEl =\n",
              "    domScope.querySelector('#df-0a3a2922-a8f5-408c-85cf-b43de9941de1 button.colab-df-quickchart');\n",
              "  quickchartButtonEl.style.display =\n",
              "    google.colab.kernel.accessAllowed ? 'block' : 'none';\n",
              "}\n",
              "\n",
              "        displayQuickchartButton(document);\n",
              "      </script>\n",
              "      <style>\n",
              "    .colab-df-container {\n",
              "      display:flex;\n",
              "      flex-wrap:wrap;\n",
              "      gap: 12px;\n",
              "    }\n",
              "\n",
              "    .colab-df-convert {\n",
              "      background-color: #E8F0FE;\n",
              "      border: none;\n",
              "      border-radius: 50%;\n",
              "      cursor: pointer;\n",
              "      display: none;\n",
              "      fill: #1967D2;\n",
              "      height: 32px;\n",
              "      padding: 0 0 0 0;\n",
              "      width: 32px;\n",
              "    }\n",
              "\n",
              "    .colab-df-convert:hover {\n",
              "      background-color: #E2EBFA;\n",
              "      box-shadow: 0px 1px 2px rgba(60, 64, 67, 0.3), 0px 1px 3px 1px rgba(60, 64, 67, 0.15);\n",
              "      fill: #174EA6;\n",
              "    }\n",
              "\n",
              "    [theme=dark] .colab-df-convert {\n",
              "      background-color: #3B4455;\n",
              "      fill: #D2E3FC;\n",
              "    }\n",
              "\n",
              "    [theme=dark] .colab-df-convert:hover {\n",
              "      background-color: #434B5C;\n",
              "      box-shadow: 0px 1px 3px 1px rgba(0, 0, 0, 0.15);\n",
              "      filter: drop-shadow(0px 1px 2px rgba(0, 0, 0, 0.3));\n",
              "      fill: #FFFFFF;\n",
              "    }\n",
              "  </style>\n",
              "\n",
              "      <script>\n",
              "        const buttonEl =\n",
              "          document.querySelector('#df-f1d2ff6b-6f9c-4d0f-b5fe-1b59ce5702f0 button.colab-df-convert');\n",
              "        buttonEl.style.display =\n",
              "          google.colab.kernel.accessAllowed ? 'block' : 'none';\n",
              "\n",
              "        async function convertToInteractive(key) {\n",
              "          const element = document.querySelector('#df-f1d2ff6b-6f9c-4d0f-b5fe-1b59ce5702f0');\n",
              "          const dataTable =\n",
              "            await google.colab.kernel.invokeFunction('convertToInteractive',\n",
              "                                                     [key], {});\n",
              "          if (!dataTable) return;\n",
              "\n",
              "          const docLinkHtml = 'Like what you see? Visit the ' +\n",
              "            '<a target=\"_blank\" href=https://colab.research.google.com/notebooks/data_table.ipynb>data table notebook</a>'\n",
              "            + ' to learn more about interactive tables.';\n",
              "          element.innerHTML = '';\n",
              "          dataTable['output_type'] = 'display_data';\n",
              "          await google.colab.output.renderOutput(dataTable, element);\n",
              "          const docLink = document.createElement('div');\n",
              "          docLink.innerHTML = docLinkHtml;\n",
              "          element.appendChild(docLink);\n",
              "        }\n",
              "      </script>\n",
              "    </div>\n",
              "  </div>\n"
            ]
          },
          "metadata": {},
          "execution_count": 33
        }
      ]
    },
    {
      "cell_type": "code",
      "source": [
        "!pip install tensorflow-gpu==2.8.0\n",
        "import tensorflow as tf\n",
        "!pip install tensorflow-io==0.25.0"
      ],
      "metadata": {
        "colab": {
          "base_uri": "https://localhost:8080/"
        },
        "id": "WQhevAciqBYv",
        "outputId": "62e4336b-a5c8-4ac3-c98f-3721a3be00e0"
      },
      "execution_count": 17,
      "outputs": [
        {
          "output_type": "stream",
          "name": "stdout",
          "text": [
            "Collecting tensorflow-gpu==2.8.0\n",
            "  Downloading tensorflow_gpu-2.8.0-cp310-cp310-manylinux2010_x86_64.whl (497.6 MB)\n",
            "\u001b[2K     \u001b[90m━━━━━━━━━━━━━━━━━━━━━━━━━━━━━━━━━━━━━━━\u001b[0m \u001b[32m497.6/497.6 MB\u001b[0m \u001b[31m2.8 MB/s\u001b[0m eta \u001b[36m0:00:00\u001b[0m\n",
            "\u001b[?25hRequirement already satisfied: absl-py>=0.4.0 in /usr/local/lib/python3.10/dist-packages (from tensorflow-gpu==2.8.0) (1.4.0)\n",
            "Requirement already satisfied: astunparse>=1.6.0 in /usr/local/lib/python3.10/dist-packages (from tensorflow-gpu==2.8.0) (1.6.3)\n",
            "Requirement already satisfied: flatbuffers>=1.12 in /usr/local/lib/python3.10/dist-packages (from tensorflow-gpu==2.8.0) (23.5.26)\n",
            "Requirement already satisfied: gast>=0.2.1 in /usr/local/lib/python3.10/dist-packages (from tensorflow-gpu==2.8.0) (0.4.0)\n",
            "Requirement already satisfied: google-pasta>=0.1.1 in /usr/local/lib/python3.10/dist-packages (from tensorflow-gpu==2.8.0) (0.2.0)\n",
            "Requirement already satisfied: h5py>=2.9.0 in /usr/local/lib/python3.10/dist-packages (from tensorflow-gpu==2.8.0) (3.8.0)\n",
            "Collecting keras-preprocessing>=1.1.1 (from tensorflow-gpu==2.8.0)\n",
            "  Downloading Keras_Preprocessing-1.1.2-py2.py3-none-any.whl (42 kB)\n",
            "\u001b[2K     \u001b[90m━━━━━━━━━━━━━━━━━━━━━━━━━━━━━━━━━━━━━━━━\u001b[0m \u001b[32m42.6/42.6 kB\u001b[0m \u001b[31m2.8 MB/s\u001b[0m eta \u001b[36m0:00:00\u001b[0m\n",
            "\u001b[?25hRequirement already satisfied: libclang>=9.0.1 in /usr/local/lib/python3.10/dist-packages (from tensorflow-gpu==2.8.0) (16.0.0)\n",
            "Requirement already satisfied: numpy>=1.20 in /usr/local/lib/python3.10/dist-packages (from tensorflow-gpu==2.8.0) (1.22.4)\n",
            "Requirement already satisfied: opt-einsum>=2.3.2 in /usr/local/lib/python3.10/dist-packages (from tensorflow-gpu==2.8.0) (3.3.0)\n",
            "Requirement already satisfied: protobuf>=3.9.2 in /usr/local/lib/python3.10/dist-packages (from tensorflow-gpu==2.8.0) (3.20.3)\n",
            "Requirement already satisfied: setuptools in /usr/local/lib/python3.10/dist-packages (from tensorflow-gpu==2.8.0) (67.7.2)\n",
            "Requirement already satisfied: six>=1.12.0 in /usr/local/lib/python3.10/dist-packages (from tensorflow-gpu==2.8.0) (1.16.0)\n",
            "Requirement already satisfied: termcolor>=1.1.0 in /usr/local/lib/python3.10/dist-packages (from tensorflow-gpu==2.8.0) (2.3.0)\n",
            "Requirement already satisfied: typing-extensions>=3.6.6 in /usr/local/lib/python3.10/dist-packages (from tensorflow-gpu==2.8.0) (4.7.1)\n",
            "Requirement already satisfied: wrapt>=1.11.0 in /usr/local/lib/python3.10/dist-packages (from tensorflow-gpu==2.8.0) (1.14.1)\n",
            "Collecting tensorboard<2.9,>=2.8 (from tensorflow-gpu==2.8.0)\n",
            "  Downloading tensorboard-2.8.0-py3-none-any.whl (5.8 MB)\n",
            "\u001b[2K     \u001b[90m━━━━━━━━━━━━━━━━━━━━━━━━━━━━━━━━━━━━━━━━\u001b[0m \u001b[32m5.8/5.8 MB\u001b[0m \u001b[31m26.7 MB/s\u001b[0m eta \u001b[36m0:00:00\u001b[0m\n",
            "\u001b[?25hCollecting tf-estimator-nightly==2.8.0.dev2021122109 (from tensorflow-gpu==2.8.0)\n",
            "  Downloading tf_estimator_nightly-2.8.0.dev2021122109-py2.py3-none-any.whl (462 kB)\n",
            "\u001b[2K     \u001b[90m━━━━━━━━━━━━━━━━━━━━━━━━━━━━━━━━━━━━━━\u001b[0m \u001b[32m462.5/462.5 kB\u001b[0m \u001b[31m33.0 MB/s\u001b[0m eta \u001b[36m0:00:00\u001b[0m\n",
            "\u001b[?25hCollecting keras<2.9,>=2.8.0rc0 (from tensorflow-gpu==2.8.0)\n",
            "  Downloading keras-2.8.0-py2.py3-none-any.whl (1.4 MB)\n",
            "\u001b[2K     \u001b[90m━━━━━━━━━━━━━━━━━━━━━━━━━━━━━━━━━━━━━━━━\u001b[0m \u001b[32m1.4/1.4 MB\u001b[0m \u001b[31m35.9 MB/s\u001b[0m eta \u001b[36m0:00:00\u001b[0m\n",
            "\u001b[?25hRequirement already satisfied: tensorflow-io-gcs-filesystem>=0.23.1 in /usr/local/lib/python3.10/dist-packages (from tensorflow-gpu==2.8.0) (0.32.0)\n",
            "Requirement already satisfied: grpcio<2.0,>=1.24.3 in /usr/local/lib/python3.10/dist-packages (from tensorflow-gpu==2.8.0) (1.56.0)\n",
            "Requirement already satisfied: wheel<1.0,>=0.23.0 in /usr/local/lib/python3.10/dist-packages (from astunparse>=1.6.0->tensorflow-gpu==2.8.0) (0.40.0)\n",
            "Requirement already satisfied: google-auth<3,>=1.6.3 in /usr/local/lib/python3.10/dist-packages (from tensorboard<2.9,>=2.8->tensorflow-gpu==2.8.0) (2.17.3)\n",
            "Collecting google-auth-oauthlib<0.5,>=0.4.1 (from tensorboard<2.9,>=2.8->tensorflow-gpu==2.8.0)\n",
            "  Downloading google_auth_oauthlib-0.4.6-py2.py3-none-any.whl (18 kB)\n",
            "Requirement already satisfied: markdown>=2.6.8 in /usr/local/lib/python3.10/dist-packages (from tensorboard<2.9,>=2.8->tensorflow-gpu==2.8.0) (3.4.3)\n",
            "Requirement already satisfied: requests<3,>=2.21.0 in /usr/local/lib/python3.10/dist-packages (from tensorboard<2.9,>=2.8->tensorflow-gpu==2.8.0) (2.27.1)\n",
            "Collecting tensorboard-data-server<0.7.0,>=0.6.0 (from tensorboard<2.9,>=2.8->tensorflow-gpu==2.8.0)\n",
            "  Downloading tensorboard_data_server-0.6.1-py3-none-manylinux2010_x86_64.whl (4.9 MB)\n",
            "\u001b[2K     \u001b[90m━━━━━━━━━━━━━━━━━━━━━━━━━━━━━━━━━━━━━━━━\u001b[0m \u001b[32m4.9/4.9 MB\u001b[0m \u001b[31m29.6 MB/s\u001b[0m eta \u001b[36m0:00:00\u001b[0m\n",
            "\u001b[?25hCollecting tensorboard-plugin-wit>=1.6.0 (from tensorboard<2.9,>=2.8->tensorflow-gpu==2.8.0)\n",
            "  Downloading tensorboard_plugin_wit-1.8.1-py3-none-any.whl (781 kB)\n",
            "\u001b[2K     \u001b[90m━━━━━━━━━━━━━━━━━━━━━━━━━━━━━━━━━━━━━━\u001b[0m \u001b[32m781.3/781.3 kB\u001b[0m \u001b[31m25.8 MB/s\u001b[0m eta \u001b[36m0:00:00\u001b[0m\n",
            "\u001b[?25hRequirement already satisfied: werkzeug>=0.11.15 in /usr/local/lib/python3.10/dist-packages (from tensorboard<2.9,>=2.8->tensorflow-gpu==2.8.0) (2.3.6)\n",
            "Requirement already satisfied: cachetools<6.0,>=2.0.0 in /usr/local/lib/python3.10/dist-packages (from google-auth<3,>=1.6.3->tensorboard<2.9,>=2.8->tensorflow-gpu==2.8.0) (5.3.1)\n",
            "Requirement already satisfied: pyasn1-modules>=0.2.1 in /usr/local/lib/python3.10/dist-packages (from google-auth<3,>=1.6.3->tensorboard<2.9,>=2.8->tensorflow-gpu==2.8.0) (0.3.0)\n",
            "Requirement already satisfied: rsa<5,>=3.1.4 in /usr/local/lib/python3.10/dist-packages (from google-auth<3,>=1.6.3->tensorboard<2.9,>=2.8->tensorflow-gpu==2.8.0) (4.9)\n",
            "Requirement already satisfied: requests-oauthlib>=0.7.0 in /usr/local/lib/python3.10/dist-packages (from google-auth-oauthlib<0.5,>=0.4.1->tensorboard<2.9,>=2.8->tensorflow-gpu==2.8.0) (1.3.1)\n",
            "Requirement already satisfied: urllib3<1.27,>=1.21.1 in /usr/local/lib/python3.10/dist-packages (from requests<3,>=2.21.0->tensorboard<2.9,>=2.8->tensorflow-gpu==2.8.0) (1.26.16)\n",
            "Requirement already satisfied: certifi>=2017.4.17 in /usr/local/lib/python3.10/dist-packages (from requests<3,>=2.21.0->tensorboard<2.9,>=2.8->tensorflow-gpu==2.8.0) (2023.5.7)\n",
            "Requirement already satisfied: charset-normalizer~=2.0.0 in /usr/local/lib/python3.10/dist-packages (from requests<3,>=2.21.0->tensorboard<2.9,>=2.8->tensorflow-gpu==2.8.0) (2.0.12)\n",
            "Requirement already satisfied: idna<4,>=2.5 in /usr/local/lib/python3.10/dist-packages (from requests<3,>=2.21.0->tensorboard<2.9,>=2.8->tensorflow-gpu==2.8.0) (3.4)\n",
            "Requirement already satisfied: MarkupSafe>=2.1.1 in /usr/local/lib/python3.10/dist-packages (from werkzeug>=0.11.15->tensorboard<2.9,>=2.8->tensorflow-gpu==2.8.0) (2.1.3)\n",
            "Requirement already satisfied: pyasn1<0.6.0,>=0.4.6 in /usr/local/lib/python3.10/dist-packages (from pyasn1-modules>=0.2.1->google-auth<3,>=1.6.3->tensorboard<2.9,>=2.8->tensorflow-gpu==2.8.0) (0.5.0)\n",
            "Requirement already satisfied: oauthlib>=3.0.0 in /usr/local/lib/python3.10/dist-packages (from requests-oauthlib>=0.7.0->google-auth-oauthlib<0.5,>=0.4.1->tensorboard<2.9,>=2.8->tensorflow-gpu==2.8.0) (3.2.2)\n",
            "Installing collected packages: tf-estimator-nightly, tensorboard-plugin-wit, keras, tensorboard-data-server, keras-preprocessing, google-auth-oauthlib, tensorboard, tensorflow-gpu\n",
            "  Attempting uninstall: keras\n",
            "    Found existing installation: keras 2.12.0\n",
            "    Uninstalling keras-2.12.0:\n",
            "      Successfully uninstalled keras-2.12.0\n",
            "  Attempting uninstall: tensorboard-data-server\n",
            "    Found existing installation: tensorboard-data-server 0.7.1\n",
            "    Uninstalling tensorboard-data-server-0.7.1:\n",
            "      Successfully uninstalled tensorboard-data-server-0.7.1\n",
            "  Attempting uninstall: google-auth-oauthlib\n",
            "    Found existing installation: google-auth-oauthlib 1.0.0\n",
            "    Uninstalling google-auth-oauthlib-1.0.0:\n",
            "      Successfully uninstalled google-auth-oauthlib-1.0.0\n",
            "  Attempting uninstall: tensorboard\n",
            "    Found existing installation: tensorboard 2.12.3\n",
            "    Uninstalling tensorboard-2.12.3:\n",
            "      Successfully uninstalled tensorboard-2.12.3\n",
            "\u001b[31mERROR: pip's dependency resolver does not currently take into account all the packages that are installed. This behaviour is the source of the following dependency conflicts.\n",
            "tensorflow 2.12.0 requires keras<2.13,>=2.12.0, but you have keras 2.8.0 which is incompatible.\n",
            "tensorflow 2.12.0 requires tensorboard<2.13,>=2.12, but you have tensorboard 2.8.0 which is incompatible.\u001b[0m\u001b[31m\n",
            "\u001b[0mSuccessfully installed google-auth-oauthlib-0.4.6 keras-2.8.0 keras-preprocessing-1.1.2 tensorboard-2.8.0 tensorboard-data-server-0.6.1 tensorboard-plugin-wit-1.8.1 tensorflow-gpu-2.8.0 tf-estimator-nightly-2.8.0.dev2021122109\n",
            "Collecting tensorflow-io==0.25.0\n",
            "  Downloading tensorflow_io-0.25.0-cp310-cp310-manylinux_2_12_x86_64.manylinux2010_x86_64.whl (23.4 MB)\n",
            "\u001b[2K     \u001b[90m━━━━━━━━━━━━━━━━━━━━━━━━━━━━━━━━━━━━━━━━\u001b[0m \u001b[32m23.4/23.4 MB\u001b[0m \u001b[31m36.4 MB/s\u001b[0m eta \u001b[36m0:00:00\u001b[0m\n",
            "\u001b[?25hCollecting tensorflow-io-gcs-filesystem==0.25.0 (from tensorflow-io==0.25.0)\n",
            "  Downloading tensorflow_io_gcs_filesystem-0.25.0-cp310-cp310-manylinux_2_12_x86_64.manylinux2010_x86_64.whl (2.1 MB)\n",
            "\u001b[2K     \u001b[90m━━━━━━━━━━━━━━━━━━━━━━━━━━━━━━━━━━━━━━━━\u001b[0m \u001b[32m2.1/2.1 MB\u001b[0m \u001b[31m55.7 MB/s\u001b[0m eta \u001b[36m0:00:00\u001b[0m\n",
            "\u001b[?25hInstalling collected packages: tensorflow-io-gcs-filesystem, tensorflow-io\n",
            "  Attempting uninstall: tensorflow-io-gcs-filesystem\n",
            "    Found existing installation: tensorflow-io-gcs-filesystem 0.32.0\n",
            "    Uninstalling tensorflow-io-gcs-filesystem-0.32.0:\n",
            "      Successfully uninstalled tensorflow-io-gcs-filesystem-0.32.0\n",
            "\u001b[31mERROR: pip's dependency resolver does not currently take into account all the packages that are installed. This behaviour is the source of the following dependency conflicts.\n",
            "tensorflow 2.12.0 requires keras<2.13,>=2.12.0, but you have keras 2.8.0 which is incompatible.\n",
            "tensorflow 2.12.0 requires tensorboard<2.13,>=2.12, but you have tensorboard 2.8.0 which is incompatible.\u001b[0m\u001b[31m\n",
            "\u001b[0mSuccessfully installed tensorflow-io-0.25.0 tensorflow-io-gcs-filesystem-0.25.0\n"
          ]
        }
      ]
    },
    {
      "cell_type": "code",
      "source": [
        "from sklearn.feature_extraction.text import TfidfVectorizer\n",
        "from tensorflow import keras\n",
        "from tensorflow.keras.preprocessing.text import Tokenizer"
      ],
      "metadata": {
        "id": "HlMI0sAoqY53"
      },
      "execution_count": 20,
      "outputs": []
    },
    {
      "cell_type": "code",
      "source": [
        "tokenizer = Tokenizer()\n",
        "tokenizer.fit_on_texts(df[\"plot\"])"
      ],
      "metadata": {
        "id": "HG8u8H4gqaM4"
      },
      "execution_count": 34,
      "outputs": []
    },
    {
      "cell_type": "code",
      "source": [
        "tv = TfidfVectorizer(norm='l1', use_idf=False, smooth_idf=False, lowercase=True,\n",
        "                     stop_words=\"english\", min_df=0.005, max_df=1.0, max_features=None,\n",
        "                     ngram_range=(1,1))\n",
        "vectorized = pd.DataFrame(tv.fit_transform(df[\"plot\"]).toarray(), columns=tv.get_feature_names_out())\n",
        "vectorized"
      ],
      "metadata": {
        "colab": {
          "base_uri": "https://localhost:8080/",
          "height": 483
        },
        "id": "KqX5UamfqhHV",
        "outputId": "42c0886a-7ad6-4bb5-b3a7-0cb21482f355"
      },
      "execution_count": 35,
      "outputs": [
        {
          "output_type": "execute_result",
          "data": {
            "text/plain": [
              "      000  academy  accident  accidentally  action  actor  adventure  \\\n",
              "0     0.0      0.0       0.0           0.0     0.0   0.00        0.0   \n",
              "1     0.0      0.0       0.0           0.0     0.0   0.00        0.0   \n",
              "2     0.0      0.0       0.0           0.0     0.0   0.25        0.0   \n",
              "3     0.0      0.0       0.0           0.0     0.0   0.00        0.0   \n",
              "4     0.0      0.0       0.0           0.0     0.0   0.00        0.0   \n",
              "...   ...      ...       ...           ...     ...    ...        ...   \n",
              "5832  0.0      0.0       0.0           0.0     0.0   0.00        0.0   \n",
              "5833  0.0      0.0       0.0           0.0     0.0   0.00        0.0   \n",
              "5834  0.0      0.0       0.0           0.0     0.0   0.00        0.0   \n",
              "5835  0.0      0.0       0.0           0.0     0.0   0.00        0.0   \n",
              "5836  0.0      0.0       0.0           0.0     0.0   0.00        0.0   \n",
              "\n",
              "      adventures  age  agent  ...  work  working  works  world  writer  wrong  \\\n",
              "0            0.0  0.0    0.0  ...   0.0      0.0    0.0    0.0     0.0    0.0   \n",
              "1            0.0  0.0    0.0  ...   0.0      0.0    0.0    0.0     0.0    0.0   \n",
              "2            0.0  0.0    0.0  ...   0.0      0.0    0.0    0.0     0.0    0.0   \n",
              "3            0.0  0.0    0.0  ...   0.0      0.0    0.0    0.0     0.0    0.0   \n",
              "4            0.0  0.0    0.0  ...   0.0      0.0    0.0    0.0     0.0    0.0   \n",
              "...          ...  ...    ...  ...   ...      ...    ...    ...     ...    ...   \n",
              "5832         0.2  0.0    0.0  ...   0.0      0.0    0.0    0.0     0.0    0.0   \n",
              "5833         0.0  0.0    0.0  ...   0.0      0.0    0.0    0.0     0.0    0.0   \n",
              "5834         0.0  0.0    0.0  ...   0.0      0.0    0.0    0.0     0.0    0.0   \n",
              "5835         0.0  0.0    0.0  ...   0.0      0.0    0.0    0.0     0.0    0.0   \n",
              "5836         0.0  0.0    0.0  ...   0.0      0.0    0.0    0.0     0.0    0.0   \n",
              "\n",
              "       year  years  york  young  \n",
              "0     0.000    0.0   0.0    0.0  \n",
              "1     0.000    0.0   0.0    0.0  \n",
              "2     0.000    0.0   0.0    0.0  \n",
              "3     0.125    0.0   0.0    0.0  \n",
              "4     0.000    0.0   0.0    0.0  \n",
              "...     ...    ...   ...    ...  \n",
              "5832  0.200    0.0   0.0    0.0  \n",
              "5833  0.000    0.0   0.0    0.0  \n",
              "5834  0.000    0.0   0.0    0.0  \n",
              "5835  0.000    0.0   0.0    0.0  \n",
              "5836  0.000    0.0   0.0    0.0  \n",
              "\n",
              "[5837 rows x 451 columns]"
            ],
            "text/html": [
              "\n",
              "\n",
              "  <div id=\"df-6e551798-046b-4994-aacd-748fde3c8efd\">\n",
              "    <div class=\"colab-df-container\">\n",
              "      <div>\n",
              "<style scoped>\n",
              "    .dataframe tbody tr th:only-of-type {\n",
              "        vertical-align: middle;\n",
              "    }\n",
              "\n",
              "    .dataframe tbody tr th {\n",
              "        vertical-align: top;\n",
              "    }\n",
              "\n",
              "    .dataframe thead th {\n",
              "        text-align: right;\n",
              "    }\n",
              "</style>\n",
              "<table border=\"1\" class=\"dataframe\">\n",
              "  <thead>\n",
              "    <tr style=\"text-align: right;\">\n",
              "      <th></th>\n",
              "      <th>000</th>\n",
              "      <th>academy</th>\n",
              "      <th>accident</th>\n",
              "      <th>accidentally</th>\n",
              "      <th>action</th>\n",
              "      <th>actor</th>\n",
              "      <th>adventure</th>\n",
              "      <th>adventures</th>\n",
              "      <th>age</th>\n",
              "      <th>agent</th>\n",
              "      <th>...</th>\n",
              "      <th>work</th>\n",
              "      <th>working</th>\n",
              "      <th>works</th>\n",
              "      <th>world</th>\n",
              "      <th>writer</th>\n",
              "      <th>wrong</th>\n",
              "      <th>year</th>\n",
              "      <th>years</th>\n",
              "      <th>york</th>\n",
              "      <th>young</th>\n",
              "    </tr>\n",
              "  </thead>\n",
              "  <tbody>\n",
              "    <tr>\n",
              "      <th>0</th>\n",
              "      <td>0.0</td>\n",
              "      <td>0.0</td>\n",
              "      <td>0.0</td>\n",
              "      <td>0.0</td>\n",
              "      <td>0.0</td>\n",
              "      <td>0.00</td>\n",
              "      <td>0.0</td>\n",
              "      <td>0.0</td>\n",
              "      <td>0.0</td>\n",
              "      <td>0.0</td>\n",
              "      <td>...</td>\n",
              "      <td>0.0</td>\n",
              "      <td>0.0</td>\n",
              "      <td>0.0</td>\n",
              "      <td>0.0</td>\n",
              "      <td>0.0</td>\n",
              "      <td>0.0</td>\n",
              "      <td>0.000</td>\n",
              "      <td>0.0</td>\n",
              "      <td>0.0</td>\n",
              "      <td>0.0</td>\n",
              "    </tr>\n",
              "    <tr>\n",
              "      <th>1</th>\n",
              "      <td>0.0</td>\n",
              "      <td>0.0</td>\n",
              "      <td>0.0</td>\n",
              "      <td>0.0</td>\n",
              "      <td>0.0</td>\n",
              "      <td>0.00</td>\n",
              "      <td>0.0</td>\n",
              "      <td>0.0</td>\n",
              "      <td>0.0</td>\n",
              "      <td>0.0</td>\n",
              "      <td>...</td>\n",
              "      <td>0.0</td>\n",
              "      <td>0.0</td>\n",
              "      <td>0.0</td>\n",
              "      <td>0.0</td>\n",
              "      <td>0.0</td>\n",
              "      <td>0.0</td>\n",
              "      <td>0.000</td>\n",
              "      <td>0.0</td>\n",
              "      <td>0.0</td>\n",
              "      <td>0.0</td>\n",
              "    </tr>\n",
              "    <tr>\n",
              "      <th>2</th>\n",
              "      <td>0.0</td>\n",
              "      <td>0.0</td>\n",
              "      <td>0.0</td>\n",
              "      <td>0.0</td>\n",
              "      <td>0.0</td>\n",
              "      <td>0.25</td>\n",
              "      <td>0.0</td>\n",
              "      <td>0.0</td>\n",
              "      <td>0.0</td>\n",
              "      <td>0.0</td>\n",
              "      <td>...</td>\n",
              "      <td>0.0</td>\n",
              "      <td>0.0</td>\n",
              "      <td>0.0</td>\n",
              "      <td>0.0</td>\n",
              "      <td>0.0</td>\n",
              "      <td>0.0</td>\n",
              "      <td>0.000</td>\n",
              "      <td>0.0</td>\n",
              "      <td>0.0</td>\n",
              "      <td>0.0</td>\n",
              "    </tr>\n",
              "    <tr>\n",
              "      <th>3</th>\n",
              "      <td>0.0</td>\n",
              "      <td>0.0</td>\n",
              "      <td>0.0</td>\n",
              "      <td>0.0</td>\n",
              "      <td>0.0</td>\n",
              "      <td>0.00</td>\n",
              "      <td>0.0</td>\n",
              "      <td>0.0</td>\n",
              "      <td>0.0</td>\n",
              "      <td>0.0</td>\n",
              "      <td>...</td>\n",
              "      <td>0.0</td>\n",
              "      <td>0.0</td>\n",
              "      <td>0.0</td>\n",
              "      <td>0.0</td>\n",
              "      <td>0.0</td>\n",
              "      <td>0.0</td>\n",
              "      <td>0.125</td>\n",
              "      <td>0.0</td>\n",
              "      <td>0.0</td>\n",
              "      <td>0.0</td>\n",
              "    </tr>\n",
              "    <tr>\n",
              "      <th>4</th>\n",
              "      <td>0.0</td>\n",
              "      <td>0.0</td>\n",
              "      <td>0.0</td>\n",
              "      <td>0.0</td>\n",
              "      <td>0.0</td>\n",
              "      <td>0.00</td>\n",
              "      <td>0.0</td>\n",
              "      <td>0.0</td>\n",
              "      <td>0.0</td>\n",
              "      <td>0.0</td>\n",
              "      <td>...</td>\n",
              "      <td>0.0</td>\n",
              "      <td>0.0</td>\n",
              "      <td>0.0</td>\n",
              "      <td>0.0</td>\n",
              "      <td>0.0</td>\n",
              "      <td>0.0</td>\n",
              "      <td>0.000</td>\n",
              "      <td>0.0</td>\n",
              "      <td>0.0</td>\n",
              "      <td>0.0</td>\n",
              "    </tr>\n",
              "    <tr>\n",
              "      <th>...</th>\n",
              "      <td>...</td>\n",
              "      <td>...</td>\n",
              "      <td>...</td>\n",
              "      <td>...</td>\n",
              "      <td>...</td>\n",
              "      <td>...</td>\n",
              "      <td>...</td>\n",
              "      <td>...</td>\n",
              "      <td>...</td>\n",
              "      <td>...</td>\n",
              "      <td>...</td>\n",
              "      <td>...</td>\n",
              "      <td>...</td>\n",
              "      <td>...</td>\n",
              "      <td>...</td>\n",
              "      <td>...</td>\n",
              "      <td>...</td>\n",
              "      <td>...</td>\n",
              "      <td>...</td>\n",
              "      <td>...</td>\n",
              "      <td>...</td>\n",
              "    </tr>\n",
              "    <tr>\n",
              "      <th>5832</th>\n",
              "      <td>0.0</td>\n",
              "      <td>0.0</td>\n",
              "      <td>0.0</td>\n",
              "      <td>0.0</td>\n",
              "      <td>0.0</td>\n",
              "      <td>0.00</td>\n",
              "      <td>0.0</td>\n",
              "      <td>0.2</td>\n",
              "      <td>0.0</td>\n",
              "      <td>0.0</td>\n",
              "      <td>...</td>\n",
              "      <td>0.0</td>\n",
              "      <td>0.0</td>\n",
              "      <td>0.0</td>\n",
              "      <td>0.0</td>\n",
              "      <td>0.0</td>\n",
              "      <td>0.0</td>\n",
              "      <td>0.200</td>\n",
              "      <td>0.0</td>\n",
              "      <td>0.0</td>\n",
              "      <td>0.0</td>\n",
              "    </tr>\n",
              "    <tr>\n",
              "      <th>5833</th>\n",
              "      <td>0.0</td>\n",
              "      <td>0.0</td>\n",
              "      <td>0.0</td>\n",
              "      <td>0.0</td>\n",
              "      <td>0.0</td>\n",
              "      <td>0.00</td>\n",
              "      <td>0.0</td>\n",
              "      <td>0.0</td>\n",
              "      <td>0.0</td>\n",
              "      <td>0.0</td>\n",
              "      <td>...</td>\n",
              "      <td>0.0</td>\n",
              "      <td>0.0</td>\n",
              "      <td>0.0</td>\n",
              "      <td>0.0</td>\n",
              "      <td>0.0</td>\n",
              "      <td>0.0</td>\n",
              "      <td>0.000</td>\n",
              "      <td>0.0</td>\n",
              "      <td>0.0</td>\n",
              "      <td>0.0</td>\n",
              "    </tr>\n",
              "    <tr>\n",
              "      <th>5834</th>\n",
              "      <td>0.0</td>\n",
              "      <td>0.0</td>\n",
              "      <td>0.0</td>\n",
              "      <td>0.0</td>\n",
              "      <td>0.0</td>\n",
              "      <td>0.00</td>\n",
              "      <td>0.0</td>\n",
              "      <td>0.0</td>\n",
              "      <td>0.0</td>\n",
              "      <td>0.0</td>\n",
              "      <td>...</td>\n",
              "      <td>0.0</td>\n",
              "      <td>0.0</td>\n",
              "      <td>0.0</td>\n",
              "      <td>0.0</td>\n",
              "      <td>0.0</td>\n",
              "      <td>0.0</td>\n",
              "      <td>0.000</td>\n",
              "      <td>0.0</td>\n",
              "      <td>0.0</td>\n",
              "      <td>0.0</td>\n",
              "    </tr>\n",
              "    <tr>\n",
              "      <th>5835</th>\n",
              "      <td>0.0</td>\n",
              "      <td>0.0</td>\n",
              "      <td>0.0</td>\n",
              "      <td>0.0</td>\n",
              "      <td>0.0</td>\n",
              "      <td>0.00</td>\n",
              "      <td>0.0</td>\n",
              "      <td>0.0</td>\n",
              "      <td>0.0</td>\n",
              "      <td>0.0</td>\n",
              "      <td>...</td>\n",
              "      <td>0.0</td>\n",
              "      <td>0.0</td>\n",
              "      <td>0.0</td>\n",
              "      <td>0.0</td>\n",
              "      <td>0.0</td>\n",
              "      <td>0.0</td>\n",
              "      <td>0.000</td>\n",
              "      <td>0.0</td>\n",
              "      <td>0.0</td>\n",
              "      <td>0.0</td>\n",
              "    </tr>\n",
              "    <tr>\n",
              "      <th>5836</th>\n",
              "      <td>0.0</td>\n",
              "      <td>0.0</td>\n",
              "      <td>0.0</td>\n",
              "      <td>0.0</td>\n",
              "      <td>0.0</td>\n",
              "      <td>0.00</td>\n",
              "      <td>0.0</td>\n",
              "      <td>0.0</td>\n",
              "      <td>0.0</td>\n",
              "      <td>0.0</td>\n",
              "      <td>...</td>\n",
              "      <td>0.0</td>\n",
              "      <td>0.0</td>\n",
              "      <td>0.0</td>\n",
              "      <td>0.0</td>\n",
              "      <td>0.0</td>\n",
              "      <td>0.0</td>\n",
              "      <td>0.000</td>\n",
              "      <td>0.0</td>\n",
              "      <td>0.0</td>\n",
              "      <td>0.0</td>\n",
              "    </tr>\n",
              "  </tbody>\n",
              "</table>\n",
              "<p>5837 rows × 451 columns</p>\n",
              "</div>\n",
              "      <button class=\"colab-df-convert\" onclick=\"convertToInteractive('df-6e551798-046b-4994-aacd-748fde3c8efd')\"\n",
              "              title=\"Convert this dataframe to an interactive table.\"\n",
              "              style=\"display:none;\">\n",
              "\n",
              "  <svg xmlns=\"http://www.w3.org/2000/svg\" height=\"24px\"viewBox=\"0 0 24 24\"\n",
              "       width=\"24px\">\n",
              "    <path d=\"M0 0h24v24H0V0z\" fill=\"none\"/>\n",
              "    <path d=\"M18.56 5.44l.94 2.06.94-2.06 2.06-.94-2.06-.94-.94-2.06-.94 2.06-2.06.94zm-11 1L8.5 8.5l.94-2.06 2.06-.94-2.06-.94L8.5 2.5l-.94 2.06-2.06.94zm10 10l.94 2.06.94-2.06 2.06-.94-2.06-.94-.94-2.06-.94 2.06-2.06.94z\"/><path d=\"M17.41 7.96l-1.37-1.37c-.4-.4-.92-.59-1.43-.59-.52 0-1.04.2-1.43.59L10.3 9.45l-7.72 7.72c-.78.78-.78 2.05 0 2.83L4 21.41c.39.39.9.59 1.41.59.51 0 1.02-.2 1.41-.59l7.78-7.78 2.81-2.81c.8-.78.8-2.07 0-2.86zM5.41 20L4 18.59l7.72-7.72 1.47 1.35L5.41 20z\"/>\n",
              "  </svg>\n",
              "      </button>\n",
              "\n",
              "\n",
              "\n",
              "    <div id=\"df-faada957-0bfb-466b-916c-12b4885e7051\">\n",
              "      <button class=\"colab-df-quickchart\" onclick=\"quickchart('df-faada957-0bfb-466b-916c-12b4885e7051')\"\n",
              "              title=\"Suggest charts.\"\n",
              "              style=\"display:none;\">\n",
              "\n",
              "<svg xmlns=\"http://www.w3.org/2000/svg\" height=\"24px\"viewBox=\"0 0 24 24\"\n",
              "     width=\"24px\">\n",
              "    <g>\n",
              "        <path d=\"M19 3H5c-1.1 0-2 .9-2 2v14c0 1.1.9 2 2 2h14c1.1 0 2-.9 2-2V5c0-1.1-.9-2-2-2zM9 17H7v-7h2v7zm4 0h-2V7h2v10zm4 0h-2v-4h2v4z\"/>\n",
              "    </g>\n",
              "</svg>\n",
              "      </button>\n",
              "    </div>\n",
              "\n",
              "<style>\n",
              "  .colab-df-quickchart {\n",
              "    background-color: #E8F0FE;\n",
              "    border: none;\n",
              "    border-radius: 50%;\n",
              "    cursor: pointer;\n",
              "    display: none;\n",
              "    fill: #1967D2;\n",
              "    height: 32px;\n",
              "    padding: 0 0 0 0;\n",
              "    width: 32px;\n",
              "  }\n",
              "\n",
              "  .colab-df-quickchart:hover {\n",
              "    background-color: #E2EBFA;\n",
              "    box-shadow: 0px 1px 2px rgba(60, 64, 67, 0.3), 0px 1px 3px 1px rgba(60, 64, 67, 0.15);\n",
              "    fill: #174EA6;\n",
              "  }\n",
              "\n",
              "  [theme=dark] .colab-df-quickchart {\n",
              "    background-color: #3B4455;\n",
              "    fill: #D2E3FC;\n",
              "  }\n",
              "\n",
              "  [theme=dark] .colab-df-quickchart:hover {\n",
              "    background-color: #434B5C;\n",
              "    box-shadow: 0px 1px 3px 1px rgba(0, 0, 0, 0.15);\n",
              "    filter: drop-shadow(0px 1px 2px rgba(0, 0, 0, 0.3));\n",
              "    fill: #FFFFFF;\n",
              "  }\n",
              "</style>\n",
              "\n",
              "    <script>\n",
              "      async function quickchart(key) {\n",
              "        const containerElement = document.querySelector('#' + key);\n",
              "        const charts = await google.colab.kernel.invokeFunction(\n",
              "            'suggestCharts', [key], {});\n",
              "      }\n",
              "    </script>\n",
              "\n",
              "      <script>\n",
              "\n",
              "function displayQuickchartButton(domScope) {\n",
              "  let quickchartButtonEl =\n",
              "    domScope.querySelector('#df-faada957-0bfb-466b-916c-12b4885e7051 button.colab-df-quickchart');\n",
              "  quickchartButtonEl.style.display =\n",
              "    google.colab.kernel.accessAllowed ? 'block' : 'none';\n",
              "}\n",
              "\n",
              "        displayQuickchartButton(document);\n",
              "      </script>\n",
              "      <style>\n",
              "    .colab-df-container {\n",
              "      display:flex;\n",
              "      flex-wrap:wrap;\n",
              "      gap: 12px;\n",
              "    }\n",
              "\n",
              "    .colab-df-convert {\n",
              "      background-color: #E8F0FE;\n",
              "      border: none;\n",
              "      border-radius: 50%;\n",
              "      cursor: pointer;\n",
              "      display: none;\n",
              "      fill: #1967D2;\n",
              "      height: 32px;\n",
              "      padding: 0 0 0 0;\n",
              "      width: 32px;\n",
              "    }\n",
              "\n",
              "    .colab-df-convert:hover {\n",
              "      background-color: #E2EBFA;\n",
              "      box-shadow: 0px 1px 2px rgba(60, 64, 67, 0.3), 0px 1px 3px 1px rgba(60, 64, 67, 0.15);\n",
              "      fill: #174EA6;\n",
              "    }\n",
              "\n",
              "    [theme=dark] .colab-df-convert {\n",
              "      background-color: #3B4455;\n",
              "      fill: #D2E3FC;\n",
              "    }\n",
              "\n",
              "    [theme=dark] .colab-df-convert:hover {\n",
              "      background-color: #434B5C;\n",
              "      box-shadow: 0px 1px 3px 1px rgba(0, 0, 0, 0.15);\n",
              "      filter: drop-shadow(0px 1px 2px rgba(0, 0, 0, 0.3));\n",
              "      fill: #FFFFFF;\n",
              "    }\n",
              "  </style>\n",
              "\n",
              "      <script>\n",
              "        const buttonEl =\n",
              "          document.querySelector('#df-6e551798-046b-4994-aacd-748fde3c8efd button.colab-df-convert');\n",
              "        buttonEl.style.display =\n",
              "          google.colab.kernel.accessAllowed ? 'block' : 'none';\n",
              "\n",
              "        async function convertToInteractive(key) {\n",
              "          const element = document.querySelector('#df-6e551798-046b-4994-aacd-748fde3c8efd');\n",
              "          const dataTable =\n",
              "            await google.colab.kernel.invokeFunction('convertToInteractive',\n",
              "                                                     [key], {});\n",
              "          if (!dataTable) return;\n",
              "\n",
              "          const docLinkHtml = 'Like what you see? Visit the ' +\n",
              "            '<a target=\"_blank\" href=https://colab.research.google.com/notebooks/data_table.ipynb>data table notebook</a>'\n",
              "            + ' to learn more about interactive tables.';\n",
              "          element.innerHTML = '';\n",
              "          dataTable['output_type'] = 'display_data';\n",
              "          await google.colab.output.renderOutput(dataTable, element);\n",
              "          const docLink = document.createElement('div');\n",
              "          docLink.innerHTML = docLinkHtml;\n",
              "          element.appendChild(docLink);\n",
              "        }\n",
              "      </script>\n",
              "    </div>\n",
              "  </div>\n"
            ]
          },
          "metadata": {},
          "execution_count": 35
        }
      ]
    },
    {
      "cell_type": "code",
      "source": [
        "df[\"plot\"]"
      ],
      "metadata": {
        "colab": {
          "base_uri": "https://localhost:8080/"
        },
        "id": "M-3eli4ws-TC",
        "outputId": "e1a9aecb-e6ed-45ab-adb0-ba64a51f2def"
      },
      "execution_count": 31,
      "outputs": [
        {
          "output_type": "execute_result",
          "data": {
            "text/plain": [
              "0       Lucifer Morningstar has decided he's had enoug...\n",
              "1       Following a zombie outbreak in Las Vegas, a gr...\n",
              "2       An aging actor, who long ago enjoyed a brush w...\n",
              "3       Follows the personal and professional lives of...\n",
              "4       A small Norwegian town experiencing warm winte...\n",
              "                              ...                        \n",
              "7000    As the Pico Porcupines prepare for a new year ...\n",
              "7002    Rosa, an ambitious and intelligent college stu...\n",
              "7003    When his daughter arrives home for the holiday...\n",
              "7005    The life of Michael Bentt, a champion boxer fo...\n",
              "7006    Kate experiences the force of nature that is T...\n",
              "Name: plot, Length: 5837, dtype: object"
            ]
          },
          "metadata": {},
          "execution_count": 31
        }
      ]
    },
    {
      "cell_type": "markdown",
      "source": [
        "#É possível prever a nota do filme/série de acordo com o seu plot?\n"
      ],
      "metadata": {
        "id": "rJmX1dCC4u51"
      }
    },
    {
      "cell_type": "code",
      "source": [
        "from sklearn.decomposition import PCA\n",
        "\n",
        "pca = PCA(n_components=200)\n",
        "pca_plot = pca.fit_transform(vectorized)"
      ],
      "metadata": {
        "id": "okOHUu6mvdg4"
      },
      "execution_count": 36,
      "outputs": []
    },
    {
      "cell_type": "code",
      "source": [
        "from sklearn.model_selection import train_test_split\n",
        "\n",
        "X_train,X_test,y_train,y_test = train_test_split(pca_plot,df[\"rating\"],test_size=0.1)"
      ],
      "metadata": {
        "id": "UWLompLGvgPg"
      },
      "execution_count": 37,
      "outputs": []
    },
    {
      "cell_type": "code",
      "source": [
        "from sklearn.preprocessing import PolynomialFeatures\n",
        "poly = PolynomialFeatures(degree=2, include_bias=False)\n",
        "from sklearn import metrics\n",
        "\n",
        "X_train_p = poly.fit_transform(X_train)\n",
        "X_test_p = poly.fit_transform(X_test)\n",
        "X_train_p.shape\n",
        "from  sklearn import linear_model\n",
        "regr_lasso = linear_model.Lasso(alpha=.3)\n",
        "regr_lasso.fit(X_train_p, y_train)\n",
        "print('Coeff and intercept:', regr_lasso.coef_,  regr_lasso.intercept_)\n",
        "print('Training Score:', regr_lasso.score(X_train_p, y_train))\n",
        "print('Testing Score:', regr_lasso.score(X_test_p, y_test))\n",
        "print('Training MSE: ', np.mean((regr_lasso.predict(X_train_p) - y_train)**2))\n",
        "print('Testing MSE: ', np.mean((regr_lasso.predict(X_test_p) - y_test)**2))\n",
        "print(\"Training R^2:\", metrics.r2_score(regr_lasso.predict(X_train_p), y_train))\n",
        "print(\"Testing R^2:\", metrics.r2_score(regr_lasso.predict(X_test_p), y_test))"
      ],
      "metadata": {
        "colab": {
          "base_uri": "https://localhost:8080/"
        },
        "id": "sq2F86m7wblY",
        "outputId": "b2ef80f9-f000-4268-efb5-bf9ca7269a9a"
      },
      "execution_count": 38,
      "outputs": [
        {
          "output_type": "stream",
          "name": "stdout",
          "text": [
            "Coeff and intercept: [ 0.  0. -0. ...  0.  0.  0.] 6.697810774795355\n",
            "Training Score: 0.0\n",
            "Testing Score: -9.289914995092019e-05\n",
            "Training MSE:  1.4673985958328852\n",
            "Testing MSE:  1.4687968039256347\n",
            "Training R^2: -4.650371776954045e+29\n",
            "Testing R^2: -1.8619211501096358e+30\n"
          ]
        }
      ]
    },
    {
      "cell_type": "code",
      "source": [
        "result = df[\"plot\"].apply(len).mean()\n",
        "result"
      ],
      "metadata": {
        "colab": {
          "base_uri": "https://localhost:8080/"
        },
        "id": "VKkU9H2Zwfkf",
        "outputId": "f7ba25f1-e951-4526-c561-c3c23c7d79b9"
      },
      "execution_count": 39,
      "outputs": [
        {
          "output_type": "execute_result",
          "data": {
            "text/plain": [
              "160.53023813602877"
            ]
          },
          "metadata": {},
          "execution_count": 39
        }
      ]
    },
    {
      "cell_type": "code",
      "source": [
        "plt.plot(range(len(pca.explained_variance_ratio_)),\n",
        "         np.cumsum(pca.explained_variance_ratio_),\n",
        "         'ro-')\n",
        "plt.title('Proporção cumulativa da variância de cada componente principal')\n",
        "plt.xlabel('Componentes principais')\n",
        "plt.ylabel('Proporção cumulativa da variância explicada')\n",
        "plt.show()"
      ],
      "metadata": {
        "colab": {
          "base_uri": "https://localhost:8080/",
          "height": 472
        },
        "id": "aBL92IdqwkJU",
        "outputId": "dde4372e-290c-4481-8c36-0320c4c5e561"
      },
      "execution_count": 40,
      "outputs": [
        {
          "output_type": "display_data",
          "data": {
            "text/plain": [
              "<Figure size 640x480 with 1 Axes>"
            ],
            "image/png": "[encoded data removed]"
          },
          "metadata": {}
        }
      ]
    },
    {
      "cell_type": "code",
      "source": [
        "from sklearn.cluster import DBSCAN\n",
        "cdbscan = DBSCAN(eps=0.01).fit_predict(pca_plot)\n",
        "import collections\n",
        "counter = collections.Counter(cdbscan)\n",
        "counter"
      ],
      "metadata": {
        "colab": {
          "base_uri": "https://localhost:8080/"
        },
        "id": "hGkibNSIwp_o",
        "outputId": "a0abbb01-ed69-43d1-e063-21955e0ca7d9"
      },
      "execution_count": 41,
      "outputs": [
        {
          "output_type": "execute_result",
          "data": {
            "text/plain": [
              "Counter({-1: 5780, 0: 41, 1: 5, 2: 6, 3: 5})"
            ]
          },
          "metadata": {},
          "execution_count": 41
        }
      ]
    },
    {
      "cell_type": "code",
      "source": [
        "from sklearn.cluster import OPTICS\n",
        "op = OPTICS(min_samples=2).fit_predict(pca_plot)\n",
        "counter = collections.Counter(op)\n",
        "counter"
      ],
      "metadata": {
        "colab": {
          "base_uri": "https://localhost:8080/"
        },
        "id": "9dTzyM3QwsTD",
        "outputId": "5e3b0f87-2f78-4971-9cc9-2c05b83e9b81"
      },
      "execution_count": 42,
      "outputs": [
        {
          "output_type": "stream",
          "name": "stderr",
          "text": [
            "/usr/local/lib/python3.10/dist-packages/sklearn/cluster/_optics.py:932: RuntimeWarning: divide by zero encountered in true_divide\n",
            "  ratio = reachability_plot[:-1] / reachability_plot[1:]\n"
          ]
        },
        {
          "output_type": "execute_result",
          "data": {
            "text/plain": [
              "Counter({0: 2,\n",
              "         -1: 4854,\n",
              "         284: 2,\n",
              "         147: 2,\n",
              "         171: 5,\n",
              "         61: 2,\n",
              "         298: 2,\n",
              "         155: 3,\n",
              "         2: 2,\n",
              "         294: 2,\n",
              "         62: 3,\n",
              "         330: 2,\n",
              "         220: 2,\n",
              "         368: 4,\n",
              "         68: 2,\n",
              "         1: 44,\n",
              "         161: 2,\n",
              "         119: 2,\n",
              "         341: 2,\n",
              "         205: 2,\n",
              "         256: 2,\n",
              "         125: 2,\n",
              "         402: 2,\n",
              "         207: 2,\n",
              "         201: 4,\n",
              "         339: 4,\n",
              "         134: 2,\n",
              "         17: 2,\n",
              "         198: 2,\n",
              "         18: 3,\n",
              "         12: 2,\n",
              "         206: 2,\n",
              "         106: 2,\n",
              "         225: 2,\n",
              "         69: 2,\n",
              "         357: 2,\n",
              "         118: 2,\n",
              "         36: 4,\n",
              "         217: 2,\n",
              "         139: 2,\n",
              "         248: 3,\n",
              "         329: 2,\n",
              "         169: 2,\n",
              "         247: 2,\n",
              "         325: 2,\n",
              "         32: 2,\n",
              "         398: 2,\n",
              "         51: 2,\n",
              "         84: 4,\n",
              "         13: 2,\n",
              "         292: 2,\n",
              "         204: 2,\n",
              "         178: 2,\n",
              "         378: 3,\n",
              "         276: 3,\n",
              "         272: 2,\n",
              "         237: 2,\n",
              "         184: 2,\n",
              "         174: 2,\n",
              "         376: 2,\n",
              "         127: 3,\n",
              "         112: 2,\n",
              "         122: 3,\n",
              "         22: 3,\n",
              "         234: 2,\n",
              "         229: 2,\n",
              "         116: 3,\n",
              "         323: 2,\n",
              "         111: 3,\n",
              "         238: 2,\n",
              "         35: 3,\n",
              "         362: 2,\n",
              "         253: 2,\n",
              "         20: 2,\n",
              "         196: 2,\n",
              "         236: 2,\n",
              "         99: 2,\n",
              "         158: 3,\n",
              "         364: 4,\n",
              "         177: 2,\n",
              "         321: 2,\n",
              "         240: 2,\n",
              "         212: 2,\n",
              "         163: 2,\n",
              "         359: 2,\n",
              "         316: 2,\n",
              "         263: 2,\n",
              "         401: 2,\n",
              "         97: 2,\n",
              "         128: 2,\n",
              "         395: 2,\n",
              "         297: 3,\n",
              "         211: 2,\n",
              "         231: 3,\n",
              "         305: 2,\n",
              "         167: 2,\n",
              "         72: 2,\n",
              "         239: 2,\n",
              "         356: 2,\n",
              "         213: 3,\n",
              "         91: 2,\n",
              "         79: 2,\n",
              "         153: 2,\n",
              "         42: 2,\n",
              "         73: 3,\n",
              "         16: 4,\n",
              "         31: 4,\n",
              "         381: 2,\n",
              "         114: 2,\n",
              "         322: 2,\n",
              "         230: 2,\n",
              "         222: 4,\n",
              "         44: 3,\n",
              "         70: 4,\n",
              "         143: 2,\n",
              "         279: 2,\n",
              "         10: 3,\n",
              "         366: 2,\n",
              "         67: 2,\n",
              "         110: 2,\n",
              "         98: 2,\n",
              "         317: 2,\n",
              "         195: 2,\n",
              "         318: 2,\n",
              "         141: 2,\n",
              "         157: 2,\n",
              "         252: 2,\n",
              "         94: 3,\n",
              "         23: 3,\n",
              "         5: 2,\n",
              "         291: 2,\n",
              "         27: 2,\n",
              "         85: 2,\n",
              "         166: 2,\n",
              "         180: 2,\n",
              "         11: 2,\n",
              "         285: 2,\n",
              "         293: 2,\n",
              "         154: 4,\n",
              "         186: 2,\n",
              "         19: 2,\n",
              "         57: 3,\n",
              "         37: 2,\n",
              "         126: 3,\n",
              "         314: 2,\n",
              "         54: 2,\n",
              "         78: 5,\n",
              "         172: 2,\n",
              "         338: 2,\n",
              "         88: 2,\n",
              "         41: 2,\n",
              "         265: 2,\n",
              "         251: 2,\n",
              "         197: 2,\n",
              "         150: 2,\n",
              "         129: 2,\n",
              "         344: 2,\n",
              "         175: 2,\n",
              "         363: 2,\n",
              "         216: 3,\n",
              "         100: 2,\n",
              "         369: 2,\n",
              "         168: 2,\n",
              "         193: 2,\n",
              "         405: 2,\n",
              "         149: 2,\n",
              "         221: 2,\n",
              "         259: 2,\n",
              "         80: 2,\n",
              "         228: 3,\n",
              "         387: 5,\n",
              "         199: 2,\n",
              "         115: 2,\n",
              "         269: 2,\n",
              "         400: 2,\n",
              "         101: 2,\n",
              "         352: 2,\n",
              "         303: 3,\n",
              "         283: 2,\n",
              "         63: 2,\n",
              "         45: 2,\n",
              "         52: 2,\n",
              "         393: 2,\n",
              "         365: 2,\n",
              "         173: 2,\n",
              "         354: 2,\n",
              "         332: 2,\n",
              "         385: 2,\n",
              "         187: 2,\n",
              "         360: 2,\n",
              "         76: 2,\n",
              "         274: 2,\n",
              "         50: 2,\n",
              "         200: 2,\n",
              "         343: 3,\n",
              "         105: 2,\n",
              "         287: 2,\n",
              "         136: 2,\n",
              "         38: 3,\n",
              "         243: 3,\n",
              "         117: 2,\n",
              "         260: 2,\n",
              "         26: 2,\n",
              "         367: 3,\n",
              "         340: 3,\n",
              "         81: 2,\n",
              "         164: 2,\n",
              "         29: 2,\n",
              "         306: 2,\n",
              "         120: 2,\n",
              "         261: 3,\n",
              "         107: 2,\n",
              "         144: 4,\n",
              "         194: 2,\n",
              "         159: 3,\n",
              "         310: 3,\n",
              "         39: 6,\n",
              "         380: 2,\n",
              "         8: 3,\n",
              "         183: 3,\n",
              "         383: 3,\n",
              "         179: 3,\n",
              "         257: 2,\n",
              "         56: 2,\n",
              "         14: 2,\n",
              "         391: 2,\n",
              "         348: 2,\n",
              "         9: 2,\n",
              "         21: 5,\n",
              "         92: 2,\n",
              "         264: 3,\n",
              "         270: 2,\n",
              "         208: 2,\n",
              "         403: 3,\n",
              "         288: 2,\n",
              "         130: 2,\n",
              "         66: 2,\n",
              "         34: 2,\n",
              "         25: 3,\n",
              "         353: 6,\n",
              "         145: 2,\n",
              "         331: 2,\n",
              "         4: 3,\n",
              "         162: 2,\n",
              "         215: 3,\n",
              "         77: 4,\n",
              "         386: 3,\n",
              "         152: 4,\n",
              "         255: 2,\n",
              "         326: 2,\n",
              "         320: 2,\n",
              "         48: 2,\n",
              "         235: 2,\n",
              "         176: 2,\n",
              "         267: 2,\n",
              "         268: 2,\n",
              "         210: 2,\n",
              "         137: 5,\n",
              "         86: 3,\n",
              "         266: 4,\n",
              "         188: 2,\n",
              "         350: 2,\n",
              "         223: 2,\n",
              "         382: 2,\n",
              "         182: 3,\n",
              "         124: 2,\n",
              "         394: 2,\n",
              "         389: 2,\n",
              "         399: 2,\n",
              "         93: 2,\n",
              "         65: 3,\n",
              "         355: 2,\n",
              "         55: 2,\n",
              "         3: 2,\n",
              "         404: 2,\n",
              "         302: 3,\n",
              "         148: 2,\n",
              "         109: 2,\n",
              "         58: 2,\n",
              "         138: 3,\n",
              "         75: 2,\n",
              "         181: 3,\n",
              "         30: 2,\n",
              "         233: 2,\n",
              "         135: 2,\n",
              "         286: 2,\n",
              "         273: 2,\n",
              "         295: 2,\n",
              "         189: 2,\n",
              "         121: 2,\n",
              "         132: 3,\n",
              "         282: 2,\n",
              "         74: 2,\n",
              "         327: 2,\n",
              "         203: 2,\n",
              "         246: 2,\n",
              "         113: 2,\n",
              "         133: 3,\n",
              "         96: 2,\n",
              "         361: 2,\n",
              "         392: 2,\n",
              "         151: 2,\n",
              "         397: 2,\n",
              "         307: 2,\n",
              "         219: 2,\n",
              "         296: 2,\n",
              "         308: 2,\n",
              "         95: 3,\n",
              "         278: 2,\n",
              "         372: 2,\n",
              "         328: 2,\n",
              "         358: 2,\n",
              "         71: 4,\n",
              "         82: 2,\n",
              "         60: 2,\n",
              "         262: 3,\n",
              "         140: 3,\n",
              "         224: 2,\n",
              "         290: 2,\n",
              "         49: 3,\n",
              "         289: 4,\n",
              "         104: 2,\n",
              "         258: 2,\n",
              "         33: 4,\n",
              "         190: 3,\n",
              "         324: 2,\n",
              "         313: 2,\n",
              "         370: 2,\n",
              "         245: 2,\n",
              "         226: 2,\n",
              "         249: 2,\n",
              "         346: 2,\n",
              "         131: 2,\n",
              "         165: 2,\n",
              "         396: 2,\n",
              "         185: 3,\n",
              "         53: 2,\n",
              "         379: 5,\n",
              "         102: 2,\n",
              "         250: 2,\n",
              "         46: 2,\n",
              "         218: 3,\n",
              "         170: 2,\n",
              "         304: 2,\n",
              "         375: 2,\n",
              "         377: 2,\n",
              "         271: 2,\n",
              "         345: 2,\n",
              "         156: 2,\n",
              "         371: 2,\n",
              "         28: 2,\n",
              "         280: 2,\n",
              "         192: 2,\n",
              "         232: 2,\n",
              "         87: 2,\n",
              "         83: 2,\n",
              "         309: 2,\n",
              "         89: 2,\n",
              "         384: 2,\n",
              "         347: 2,\n",
              "         277: 2,\n",
              "         254: 2,\n",
              "         6: 2,\n",
              "         299: 2,\n",
              "         315: 2,\n",
              "         301: 2,\n",
              "         373: 2,\n",
              "         342: 2,\n",
              "         202: 3,\n",
              "         214: 2,\n",
              "         108: 2,\n",
              "         24: 2,\n",
              "         191: 2,\n",
              "         146: 2,\n",
              "         335: 2,\n",
              "         209: 2,\n",
              "         43: 3,\n",
              "         337: 2,\n",
              "         334: 3,\n",
              "         15: 2,\n",
              "         388: 2,\n",
              "         244: 2,\n",
              "         40: 2,\n",
              "         160: 4,\n",
              "         103: 3,\n",
              "         390: 3,\n",
              "         333: 2,\n",
              "         311: 2,\n",
              "         374: 2,\n",
              "         336: 2,\n",
              "         59: 2,\n",
              "         142: 2,\n",
              "         227: 2,\n",
              "         123: 2,\n",
              "         275: 2,\n",
              "         64: 2,\n",
              "         312: 2,\n",
              "         319: 2,\n",
              "         7: 2,\n",
              "         351: 2,\n",
              "         281: 2,\n",
              "         300: 2,\n",
              "         349: 2,\n",
              "         241: 2,\n",
              "         90: 2,\n",
              "         242: 3,\n",
              "         47: 2})"
            ]
          },
          "metadata": {},
          "execution_count": 42
        }
      ]
    }
  ]
}